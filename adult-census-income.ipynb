{
 "cells": [
  {
   "cell_type": "code",
   "execution_count": 1,
   "id": "cf50cceb",
   "metadata": {
    "execution": {
     "iopub.execute_input": "2023-07-18T14:49:26.474783Z",
     "iopub.status.busy": "2023-07-18T14:49:26.474400Z",
     "iopub.status.idle": "2023-07-18T14:49:26.480048Z",
     "shell.execute_reply": "2023-07-18T14:49:26.479015Z"
    },
    "papermill": {
     "duration": 0.021625,
     "end_time": "2023-07-18T14:49:26.486443",
     "exception": false,
     "start_time": "2023-07-18T14:49:26.464818",
     "status": "completed"
    },
    "tags": []
   },
   "outputs": [],
   "source": [
    "#Homework 5  1st question about loading and preprocessing the data."
   ]
  },
  {
   "cell_type": "code",
   "execution_count": 2,
   "id": "1f77dbdb",
   "metadata": {
    "execution": {
     "iopub.execute_input": "2023-07-18T14:49:26.503281Z",
     "iopub.status.busy": "2023-07-18T14:49:26.502904Z",
     "iopub.status.idle": "2023-07-18T14:50:19.938560Z",
     "shell.execute_reply": "2023-07-18T14:50:19.937099Z"
    },
    "papermill": {
     "duration": 53.447529,
     "end_time": "2023-07-18T14:50:19.941640",
     "exception": false,
     "start_time": "2023-07-18T14:49:26.494111",
     "status": "completed"
    },
    "tags": []
   },
   "outputs": [
    {
     "name": "stdout",
     "output_type": "stream",
     "text": [
      "Collecting pyspark\r\n",
      "  Downloading pyspark-3.4.1.tar.gz (310.8 MB)\r\n",
      "\u001b[2K     \u001b[90m━━━━━━━━━━━━━━━━━━━━━━━━━━━━━━━━━━━━━━━\u001b[0m \u001b[32m310.8/310.8 MB\u001b[0m \u001b[31m3.5 MB/s\u001b[0m eta \u001b[36m0:00:00\u001b[0m\r\n",
      "\u001b[?25h  Preparing metadata (setup.py) ... \u001b[?25l-\b \b\\\b \b|\b \bdone\r\n",
      "\u001b[?25hRequirement already satisfied: py4j==0.10.9.7 in /opt/conda/lib/python3.10/site-packages (from pyspark) (0.10.9.7)\r\n",
      "Building wheels for collected packages: pyspark\r\n",
      "  Building wheel for pyspark (setup.py) ... \u001b[?25l-\b \b\\\b \b|\b \b/\b \b-\b \b\\\b \b|\b \b/\b \b-\b \b\\\b \b|\b \b/\b \b-\b \b\\\b \bdone\r\n",
      "\u001b[?25h  Created wheel for pyspark: filename=pyspark-3.4.1-py2.py3-none-any.whl size=311285413 sha256=422f02a4aed65d1389c67276c3c2581a91ded5700d29380e4a1b5c780291a92e\r\n",
      "  Stored in directory: /root/.cache/pip/wheels/0d/77/a3/ff2f74cc9ab41f8f594dabf0579c2a7c6de920d584206e0834\r\n",
      "Successfully built pyspark\r\n",
      "Installing collected packages: pyspark\r\n",
      "Successfully installed pyspark-3.4.1\r\n",
      "\u001b[33mWARNING: Running pip as the 'root' user can result in broken permissions and conflicting behaviour with the system package manager. It is recommended to use a virtual environment instead: https://pip.pypa.io/warnings/venv\u001b[0m\u001b[33m\r\n",
      "\u001b[0m"
     ]
    },
    {
     "name": "stderr",
     "output_type": "stream",
     "text": [
      "/opt/conda/lib/python3.10/site-packages/scipy/__init__.py:146: UserWarning: A NumPy version >=1.16.5 and <1.23.0 is required for this version of SciPy (detected version 1.23.5\n",
      "  warnings.warn(f\"A NumPy version >={np_minversion} and <{np_maxversion}\"\n"
     ]
    }
   ],
   "source": [
    "!pip install pyspark\n",
    "from subprocess import check_output\n",
    "from pyspark.sql import SparkSession\n",
    "import pandas as pd \n",
    "import numpy as np\n",
    "from pyspark.sql.functions import (count, col)\n",
    "from pyspark.ml import Pipeline"
   ]
  },
  {
   "cell_type": "code",
   "execution_count": 3,
   "id": "d5d70d79",
   "metadata": {
    "execution": {
     "iopub.execute_input": "2023-07-18T14:50:19.981950Z",
     "iopub.status.busy": "2023-07-18T14:50:19.981463Z",
     "iopub.status.idle": "2023-07-18T14:50:21.403492Z",
     "shell.execute_reply": "2023-07-18T14:50:21.402383Z"
    },
    "papermill": {
     "duration": 1.446055,
     "end_time": "2023-07-18T14:50:21.406567",
     "exception": false,
     "start_time": "2023-07-18T14:50:19.960512",
     "status": "completed"
    },
    "tags": []
   },
   "outputs": [
    {
     "name": "stdout",
     "output_type": "stream",
     "text": [
      "Traceback (most recent call last):\r\n",
      "  File \"/opt/conda/bin/kaggle\", line 5, in <module>\r\n",
      "    from kaggle.cli import main\r\n",
      "  File \"/opt/conda/lib/python3.10/site-packages/kaggle/__init__.py\", line 23, in <module>\r\n",
      "    api.authenticate()\r\n",
      "  File \"/opt/conda/lib/python3.10/site-packages/kaggle/api/kaggle_api_extended.py\", line 164, in authenticate\r\n",
      "    raise IOError('Could not find {}. Make sure it\\'s located in'\r\n",
      "OSError: Could not find kaggle.json. Make sure it's located in /root/.kaggle. Or use the environment method.\r\n"
     ]
    }
   ],
   "source": [
    "!kaggle datasets download -d uciml/adult-census-income\n"
   ]
  },
  {
   "cell_type": "code",
   "execution_count": 4,
   "id": "9938963f",
   "metadata": {
    "execution": {
     "iopub.execute_input": "2023-07-18T14:50:21.446548Z",
     "iopub.status.busy": "2023-07-18T14:50:21.446107Z",
     "iopub.status.idle": "2023-07-18T14:50:35.862910Z",
     "shell.execute_reply": "2023-07-18T14:50:35.861341Z"
    },
    "papermill": {
     "duration": 14.440706,
     "end_time": "2023-07-18T14:50:35.866007",
     "exception": false,
     "start_time": "2023-07-18T14:50:21.425301",
     "status": "completed"
    },
    "tags": []
   },
   "outputs": [
    {
     "name": "stderr",
     "output_type": "stream",
     "text": [
      "Setting default log level to \"WARN\".\n",
      "To adjust logging level use sc.setLogLevel(newLevel). For SparkR, use setLogLevel(newLevel).\n",
      "23/07/18 14:50:25 WARN NativeCodeLoader: Unable to load native-hadoop library for your platform... using builtin-java classes where applicable\n",
      "                                                                                \r"
     ]
    }
   ],
   "source": [
    "from pyspark.sql import SparkSession\n",
    "spark = SparkSession.builder.appName(\"MyApp\").getOrCreate()\n",
    "df = spark.read.format('csv').option('header', True).load('/kaggle/input/adult-census-income',header=True, inferSchema=True)\n"
   ]
  },
  {
   "cell_type": "code",
   "execution_count": 5,
   "id": "af0c60b1",
   "metadata": {
    "execution": {
     "iopub.execute_input": "2023-07-18T14:50:35.907104Z",
     "iopub.status.busy": "2023-07-18T14:50:35.906693Z",
     "iopub.status.idle": "2023-07-18T14:50:35.915971Z",
     "shell.execute_reply": "2023-07-18T14:50:35.914648Z"
    },
    "papermill": {
     "duration": 0.032509,
     "end_time": "2023-07-18T14:50:35.918333",
     "exception": false,
     "start_time": "2023-07-18T14:50:35.885824",
     "status": "completed"
    },
    "tags": []
   },
   "outputs": [
    {
     "name": "stdout",
     "output_type": "stream",
     "text": [
      "root\n",
      " |-- age: integer (nullable = true)\n",
      " |-- workclass: string (nullable = true)\n",
      " |-- fnlwgt: integer (nullable = true)\n",
      " |-- education: string (nullable = true)\n",
      " |-- education.num: integer (nullable = true)\n",
      " |-- marital.status: string (nullable = true)\n",
      " |-- occupation: string (nullable = true)\n",
      " |-- relationship: string (nullable = true)\n",
      " |-- race: string (nullable = true)\n",
      " |-- sex: string (nullable = true)\n",
      " |-- capital.gain: integer (nullable = true)\n",
      " |-- capital.loss: integer (nullable = true)\n",
      " |-- hours.per.week: integer (nullable = true)\n",
      " |-- native.country: string (nullable = true)\n",
      " |-- income: string (nullable = true)\n",
      "\n"
     ]
    }
   ],
   "source": [
    "df.printSchema()"
   ]
  },
  {
   "cell_type": "code",
   "execution_count": 6,
   "id": "208f4eed",
   "metadata": {
    "execution": {
     "iopub.execute_input": "2023-07-18T14:50:35.959784Z",
     "iopub.status.busy": "2023-07-18T14:50:35.958957Z",
     "iopub.status.idle": "2023-07-18T14:50:37.926943Z",
     "shell.execute_reply": "2023-07-18T14:50:37.925794Z"
    },
    "papermill": {
     "duration": 1.991661,
     "end_time": "2023-07-18T14:50:37.929361",
     "exception": false,
     "start_time": "2023-07-18T14:50:35.937700",
     "status": "completed"
    },
    "tags": []
   },
   "outputs": [
    {
     "name": "stderr",
     "output_type": "stream",
     "text": [
      "                                                                                \r"
     ]
    },
    {
     "data": {
      "text/html": [
       "<div>\n",
       "<style scoped>\n",
       "    .dataframe tbody tr th:only-of-type {\n",
       "        vertical-align: middle;\n",
       "    }\n",
       "\n",
       "    .dataframe tbody tr th {\n",
       "        vertical-align: top;\n",
       "    }\n",
       "\n",
       "    .dataframe thead th {\n",
       "        text-align: right;\n",
       "    }\n",
       "</style>\n",
       "<table border=\"1\" class=\"dataframe\">\n",
       "  <thead>\n",
       "    <tr style=\"text-align: right;\">\n",
       "      <th></th>\n",
       "      <th>age</th>\n",
       "      <th>workclass</th>\n",
       "      <th>fnlwgt</th>\n",
       "      <th>education</th>\n",
       "      <th>education.num</th>\n",
       "      <th>marital.status</th>\n",
       "      <th>occupation</th>\n",
       "      <th>relationship</th>\n",
       "      <th>race</th>\n",
       "      <th>sex</th>\n",
       "      <th>capital.gain</th>\n",
       "      <th>capital.loss</th>\n",
       "      <th>hours.per.week</th>\n",
       "      <th>native.country</th>\n",
       "      <th>income</th>\n",
       "    </tr>\n",
       "  </thead>\n",
       "  <tbody>\n",
       "    <tr>\n",
       "      <th>0</th>\n",
       "      <td>90</td>\n",
       "      <td>?</td>\n",
       "      <td>77053</td>\n",
       "      <td>HS-grad</td>\n",
       "      <td>9</td>\n",
       "      <td>Widowed</td>\n",
       "      <td>?</td>\n",
       "      <td>Not-in-family</td>\n",
       "      <td>White</td>\n",
       "      <td>Female</td>\n",
       "      <td>0</td>\n",
       "      <td>4356</td>\n",
       "      <td>40</td>\n",
       "      <td>United-States</td>\n",
       "      <td>&lt;=50K</td>\n",
       "    </tr>\n",
       "    <tr>\n",
       "      <th>1</th>\n",
       "      <td>82</td>\n",
       "      <td>Private</td>\n",
       "      <td>132870</td>\n",
       "      <td>HS-grad</td>\n",
       "      <td>9</td>\n",
       "      <td>Widowed</td>\n",
       "      <td>Exec-managerial</td>\n",
       "      <td>Not-in-family</td>\n",
       "      <td>White</td>\n",
       "      <td>Female</td>\n",
       "      <td>0</td>\n",
       "      <td>4356</td>\n",
       "      <td>18</td>\n",
       "      <td>United-States</td>\n",
       "      <td>&lt;=50K</td>\n",
       "    </tr>\n",
       "    <tr>\n",
       "      <th>2</th>\n",
       "      <td>66</td>\n",
       "      <td>?</td>\n",
       "      <td>186061</td>\n",
       "      <td>Some-college</td>\n",
       "      <td>10</td>\n",
       "      <td>Widowed</td>\n",
       "      <td>?</td>\n",
       "      <td>Unmarried</td>\n",
       "      <td>Black</td>\n",
       "      <td>Female</td>\n",
       "      <td>0</td>\n",
       "      <td>4356</td>\n",
       "      <td>40</td>\n",
       "      <td>United-States</td>\n",
       "      <td>&lt;=50K</td>\n",
       "    </tr>\n",
       "    <tr>\n",
       "      <th>3</th>\n",
       "      <td>54</td>\n",
       "      <td>Private</td>\n",
       "      <td>140359</td>\n",
       "      <td>7th-8th</td>\n",
       "      <td>4</td>\n",
       "      <td>Divorced</td>\n",
       "      <td>Machine-op-inspct</td>\n",
       "      <td>Unmarried</td>\n",
       "      <td>White</td>\n",
       "      <td>Female</td>\n",
       "      <td>0</td>\n",
       "      <td>3900</td>\n",
       "      <td>40</td>\n",
       "      <td>United-States</td>\n",
       "      <td>&lt;=50K</td>\n",
       "    </tr>\n",
       "    <tr>\n",
       "      <th>4</th>\n",
       "      <td>41</td>\n",
       "      <td>Private</td>\n",
       "      <td>264663</td>\n",
       "      <td>Some-college</td>\n",
       "      <td>10</td>\n",
       "      <td>Separated</td>\n",
       "      <td>Prof-specialty</td>\n",
       "      <td>Own-child</td>\n",
       "      <td>White</td>\n",
       "      <td>Female</td>\n",
       "      <td>0</td>\n",
       "      <td>3900</td>\n",
       "      <td>40</td>\n",
       "      <td>United-States</td>\n",
       "      <td>&lt;=50K</td>\n",
       "    </tr>\n",
       "    <tr>\n",
       "      <th>5</th>\n",
       "      <td>34</td>\n",
       "      <td>Private</td>\n",
       "      <td>216864</td>\n",
       "      <td>HS-grad</td>\n",
       "      <td>9</td>\n",
       "      <td>Divorced</td>\n",
       "      <td>Other-service</td>\n",
       "      <td>Unmarried</td>\n",
       "      <td>White</td>\n",
       "      <td>Female</td>\n",
       "      <td>0</td>\n",
       "      <td>3770</td>\n",
       "      <td>45</td>\n",
       "      <td>United-States</td>\n",
       "      <td>&lt;=50K</td>\n",
       "    </tr>\n",
       "    <tr>\n",
       "      <th>6</th>\n",
       "      <td>38</td>\n",
       "      <td>Private</td>\n",
       "      <td>150601</td>\n",
       "      <td>10th</td>\n",
       "      <td>6</td>\n",
       "      <td>Separated</td>\n",
       "      <td>Adm-clerical</td>\n",
       "      <td>Unmarried</td>\n",
       "      <td>White</td>\n",
       "      <td>Male</td>\n",
       "      <td>0</td>\n",
       "      <td>3770</td>\n",
       "      <td>40</td>\n",
       "      <td>United-States</td>\n",
       "      <td>&lt;=50K</td>\n",
       "    </tr>\n",
       "    <tr>\n",
       "      <th>7</th>\n",
       "      <td>74</td>\n",
       "      <td>State-gov</td>\n",
       "      <td>88638</td>\n",
       "      <td>Doctorate</td>\n",
       "      <td>16</td>\n",
       "      <td>Never-married</td>\n",
       "      <td>Prof-specialty</td>\n",
       "      <td>Other-relative</td>\n",
       "      <td>White</td>\n",
       "      <td>Female</td>\n",
       "      <td>0</td>\n",
       "      <td>3683</td>\n",
       "      <td>20</td>\n",
       "      <td>United-States</td>\n",
       "      <td>&gt;50K</td>\n",
       "    </tr>\n",
       "    <tr>\n",
       "      <th>8</th>\n",
       "      <td>68</td>\n",
       "      <td>Federal-gov</td>\n",
       "      <td>422013</td>\n",
       "      <td>HS-grad</td>\n",
       "      <td>9</td>\n",
       "      <td>Divorced</td>\n",
       "      <td>Prof-specialty</td>\n",
       "      <td>Not-in-family</td>\n",
       "      <td>White</td>\n",
       "      <td>Female</td>\n",
       "      <td>0</td>\n",
       "      <td>3683</td>\n",
       "      <td>40</td>\n",
       "      <td>United-States</td>\n",
       "      <td>&lt;=50K</td>\n",
       "    </tr>\n",
       "    <tr>\n",
       "      <th>9</th>\n",
       "      <td>41</td>\n",
       "      <td>Private</td>\n",
       "      <td>70037</td>\n",
       "      <td>Some-college</td>\n",
       "      <td>10</td>\n",
       "      <td>Never-married</td>\n",
       "      <td>Craft-repair</td>\n",
       "      <td>Unmarried</td>\n",
       "      <td>White</td>\n",
       "      <td>Male</td>\n",
       "      <td>0</td>\n",
       "      <td>3004</td>\n",
       "      <td>60</td>\n",
       "      <td>?</td>\n",
       "      <td>&gt;50K</td>\n",
       "    </tr>\n",
       "  </tbody>\n",
       "</table>\n",
       "</div>"
      ],
      "text/plain": [
       "   age    workclass  fnlwgt     education  education.num marital.status  \\\n",
       "0   90            ?   77053       HS-grad              9        Widowed   \n",
       "1   82      Private  132870       HS-grad              9        Widowed   \n",
       "2   66            ?  186061  Some-college             10        Widowed   \n",
       "3   54      Private  140359       7th-8th              4       Divorced   \n",
       "4   41      Private  264663  Some-college             10      Separated   \n",
       "5   34      Private  216864       HS-grad              9       Divorced   \n",
       "6   38      Private  150601          10th              6      Separated   \n",
       "7   74    State-gov   88638     Doctorate             16  Never-married   \n",
       "8   68  Federal-gov  422013       HS-grad              9       Divorced   \n",
       "9   41      Private   70037  Some-college             10  Never-married   \n",
       "\n",
       "          occupation    relationship   race     sex  capital.gain  \\\n",
       "0                  ?   Not-in-family  White  Female             0   \n",
       "1    Exec-managerial   Not-in-family  White  Female             0   \n",
       "2                  ?       Unmarried  Black  Female             0   \n",
       "3  Machine-op-inspct       Unmarried  White  Female             0   \n",
       "4     Prof-specialty       Own-child  White  Female             0   \n",
       "5      Other-service       Unmarried  White  Female             0   \n",
       "6       Adm-clerical       Unmarried  White    Male             0   \n",
       "7     Prof-specialty  Other-relative  White  Female             0   \n",
       "8     Prof-specialty   Not-in-family  White  Female             0   \n",
       "9       Craft-repair       Unmarried  White    Male             0   \n",
       "\n",
       "   capital.loss  hours.per.week native.country income  \n",
       "0          4356              40  United-States  <=50K  \n",
       "1          4356              18  United-States  <=50K  \n",
       "2          4356              40  United-States  <=50K  \n",
       "3          3900              40  United-States  <=50K  \n",
       "4          3900              40  United-States  <=50K  \n",
       "5          3770              45  United-States  <=50K  \n",
       "6          3770              40  United-States  <=50K  \n",
       "7          3683              20  United-States   >50K  \n",
       "8          3683              40  United-States  <=50K  \n",
       "9          3004              60              ?   >50K  "
      ]
     },
     "execution_count": 6,
     "metadata": {},
     "output_type": "execute_result"
    }
   ],
   "source": [
    "df.toPandas().head(10)\n"
   ]
  },
  {
   "cell_type": "code",
   "execution_count": 7,
   "id": "b4c501f8",
   "metadata": {
    "execution": {
     "iopub.execute_input": "2023-07-18T14:50:37.972015Z",
     "iopub.status.busy": "2023-07-18T14:50:37.971560Z",
     "iopub.status.idle": "2023-07-18T14:50:38.303624Z",
     "shell.execute_reply": "2023-07-18T14:50:38.302425Z"
    },
    "papermill": {
     "duration": 0.35843,
     "end_time": "2023-07-18T14:50:38.307887",
     "exception": false,
     "start_time": "2023-07-18T14:50:37.949457",
     "status": "completed"
    },
    "tags": []
   },
   "outputs": [],
   "source": [
    "education_num = col(\"`education.num`\")\n",
    "capital_gain = col(\"`capital.gain`\")\n",
    "capital_loss = col(\"`capital.loss`\")\n",
    "hours_per_week = col(\"`hours.per.week`\")\n",
    "marital_status = col(\"`marital.status`\")\n",
    "native_country = col(\"`native.country`\")\n",
    "\n",
    "# rename dot-name columns\n",
    "df = df.withColumn(\"education_num\", education_num).drop(education_num)\\\n",
    "    .withColumn(\"capital_gain\", capital_gain).drop(capital_gain)\\\n",
    "    .withColumn(\"capital_loss\", capital_loss).drop(capital_loss)\\\n",
    "    .withColumn(\"hours_per_week\", hours_per_week).drop(hours_per_week)\\\n",
    "    .withColumn(\"marital_status\", marital_status).drop(marital_status)\\\n",
    "    .withColumn(\"native_country\", native_country).drop(native_country)"
   ]
  },
  {
   "cell_type": "code",
   "execution_count": 8,
   "id": "1f3442c8",
   "metadata": {
    "execution": {
     "iopub.execute_input": "2023-07-18T14:50:38.353978Z",
     "iopub.status.busy": "2023-07-18T14:50:38.352701Z",
     "iopub.status.idle": "2023-07-18T14:50:38.362312Z",
     "shell.execute_reply": "2023-07-18T14:50:38.360954Z"
    },
    "papermill": {
     "duration": 0.035164,
     "end_time": "2023-07-18T14:50:38.365088",
     "exception": false,
     "start_time": "2023-07-18T14:50:38.329924",
     "status": "completed"
    },
    "tags": []
   },
   "outputs": [],
   "source": [
    "num_vars = [\"age\", \"fnlwgt\", \"education_num\", \"capital_gain\", \"capital_loss\", \"hours_per_week\"]"
   ]
  },
  {
   "cell_type": "code",
   "execution_count": 9,
   "id": "af6b9fa2",
   "metadata": {
    "execution": {
     "iopub.execute_input": "2023-07-18T14:50:38.408318Z",
     "iopub.status.busy": "2023-07-18T14:50:38.407252Z",
     "iopub.status.idle": "2023-07-18T14:50:38.412811Z",
     "shell.execute_reply": "2023-07-18T14:50:38.412046Z"
    },
    "papermill": {
     "duration": 0.029553,
     "end_time": "2023-07-18T14:50:38.415136",
     "exception": false,
     "start_time": "2023-07-18T14:50:38.385583",
     "status": "completed"
    },
    "tags": []
   },
   "outputs": [],
   "source": [
    "cat_vars = [\"workclass\", \"education\", \"marital_status\", \"occupation\", \n",
    "            \"relationship\", \"race\", \"sex\", \"native_country\"]"
   ]
  },
  {
   "cell_type": "code",
   "execution_count": 10,
   "id": "a8a30750",
   "metadata": {
    "execution": {
     "iopub.execute_input": "2023-07-18T14:50:38.457618Z",
     "iopub.status.busy": "2023-07-18T14:50:38.456386Z",
     "iopub.status.idle": "2023-07-18T14:50:44.391294Z",
     "shell.execute_reply": "2023-07-18T14:50:44.390181Z"
    },
    "papermill": {
     "duration": 5.959014,
     "end_time": "2023-07-18T14:50:44.394200",
     "exception": false,
     "start_time": "2023-07-18T14:50:38.435186",
     "status": "completed"
    },
    "tags": []
   },
   "outputs": [
    {
     "data": {
      "text/plain": [
       "{'age': 0,\n",
       " 'fnlwgt': 0,\n",
       " 'education_num': 0,\n",
       " 'capital_gain': 0,\n",
       " 'capital_loss': 0,\n",
       " 'hours_per_week': 0,\n",
       " 'workclass': 0,\n",
       " 'education': 0,\n",
       " 'marital_status': 0,\n",
       " 'occupation': 0,\n",
       " 'relationship': 0,\n",
       " 'race': 0,\n",
       " 'sex': 0,\n",
       " 'native_country': 0}"
      ]
     },
     "execution_count": 10,
     "metadata": {},
     "output_type": "execute_result"
    }
   ],
   "source": [
    "def countNull(df, var):\n",
    "    return df.where(df[var].isNull()).count()\n",
    "\n",
    "all_cols = num_vars + cat_vars\n",
    "{var: countNull(df, var) for var in all_cols}"
   ]
  },
  {
   "cell_type": "code",
   "execution_count": 11,
   "id": "555b5c7c",
   "metadata": {
    "execution": {
     "iopub.execute_input": "2023-07-18T14:50:44.453497Z",
     "iopub.status.busy": "2023-07-18T14:50:44.452524Z",
     "iopub.status.idle": "2023-07-18T14:50:44.588972Z",
     "shell.execute_reply": "2023-07-18T14:50:44.587684Z"
    },
    "papermill": {
     "duration": 0.170214,
     "end_time": "2023-07-18T14:50:44.592664",
     "exception": false,
     "start_time": "2023-07-18T14:50:44.422450",
     "status": "completed"
    },
    "tags": []
   },
   "outputs": [],
   "source": [
    "\n",
    "from pyspark.ml.feature import StringIndexer,OneHotEncoder,VectorAssembler\n",
    "\n",
    "stages = []\n",
    "for cat_var in cat_vars:\n",
    "    # Category Indexing with StringIndexer\n",
    "    stringIndexer = StringIndexer(\n",
    "        inputCol=cat_var, \n",
    "        outputCol=cat_var+\"_indx\")\n",
    "    # Use OneHotEncoder to convert categorical variables into binary SparseVectors\n",
    "    encoder = OneHotEncoder(\n",
    "        inputCols=[stringIndexer.getOutputCol()], \n",
    "        outputCols=[cat_var + \"_vec\"])\n",
    "    # Add stages.  These are not run here, but will run all at once later on.\n",
    "    stages += [stringIndexer, encoder]"
   ]
  },
  {
   "cell_type": "code",
   "execution_count": 12,
   "id": "27aef70a",
   "metadata": {
    "execution": {
     "iopub.execute_input": "2023-07-18T14:50:44.652963Z",
     "iopub.status.busy": "2023-07-18T14:50:44.652467Z",
     "iopub.status.idle": "2023-07-18T14:50:44.667296Z",
     "shell.execute_reply": "2023-07-18T14:50:44.666215Z"
    },
    "papermill": {
     "duration": 0.048053,
     "end_time": "2023-07-18T14:50:44.670741",
     "exception": false,
     "start_time": "2023-07-18T14:50:44.622688",
     "status": "completed"
    },
    "tags": []
   },
   "outputs": [],
   "source": [
    "label_indx = StringIndexer(\n",
    "    inputCol=\"income\", \n",
    "    outputCol=\"label\")\n",
    "stages += [label_indx]\n"
   ]
  },
  {
   "cell_type": "code",
   "execution_count": 13,
   "id": "c666bb04",
   "metadata": {
    "execution": {
     "iopub.execute_input": "2023-07-18T14:50:44.714784Z",
     "iopub.status.busy": "2023-07-18T14:50:44.714405Z",
     "iopub.status.idle": "2023-07-18T14:50:44.730889Z",
     "shell.execute_reply": "2023-07-18T14:50:44.729596Z"
    },
    "papermill": {
     "duration": 0.0416,
     "end_time": "2023-07-18T14:50:44.734035",
     "exception": false,
     "start_time": "2023-07-18T14:50:44.692435",
     "status": "completed"
    },
    "tags": []
   },
   "outputs": [],
   "source": [
    "assembler_inputs = [c+\"_vec\" for c in cat_vars] + num_vars\n",
    "assembler = VectorAssembler(\n",
    "    inputCols=assembler_inputs, \n",
    "    outputCol=\"features\")\n",
    "stages += [assembler]"
   ]
  },
  {
   "cell_type": "code",
   "execution_count": 14,
   "id": "af17cb7b",
   "metadata": {
    "execution": {
     "iopub.execute_input": "2023-07-18T14:50:44.776978Z",
     "iopub.status.busy": "2023-07-18T14:50:44.776292Z",
     "iopub.status.idle": "2023-07-18T14:50:44.781943Z",
     "shell.execute_reply": "2023-07-18T14:50:44.780526Z"
    },
    "papermill": {
     "duration": 0.030229,
     "end_time": "2023-07-18T14:50:44.784412",
     "exception": false,
     "start_time": "2023-07-18T14:50:44.754183",
     "status": "completed"
    },
    "tags": []
   },
   "outputs": [],
   "source": [
    "pipeline = Pipeline(stages=stages)"
   ]
  },
  {
   "cell_type": "code",
   "execution_count": 15,
   "id": "35512157",
   "metadata": {
    "execution": {
     "iopub.execute_input": "2023-07-18T14:50:44.828355Z",
     "iopub.status.busy": "2023-07-18T14:50:44.827931Z",
     "iopub.status.idle": "2023-07-18T14:50:51.155627Z",
     "shell.execute_reply": "2023-07-18T14:50:51.154408Z"
    },
    "papermill": {
     "duration": 6.35464,
     "end_time": "2023-07-18T14:50:51.159623",
     "exception": false,
     "start_time": "2023-07-18T14:50:44.804983",
     "status": "completed"
    },
    "tags": []
   },
   "outputs": [
    {
     "name": "stderr",
     "output_type": "stream",
     "text": [
      "                                                                                \r"
     ]
    }
   ],
   "source": [
    "df = pipeline.fit(df).transform(df)"
   ]
  },
  {
   "cell_type": "code",
   "execution_count": 16,
   "id": "f5c0645a",
   "metadata": {
    "execution": {
     "iopub.execute_input": "2023-07-18T14:50:51.205397Z",
     "iopub.status.busy": "2023-07-18T14:50:51.205010Z",
     "iopub.status.idle": "2023-07-18T14:50:56.623499Z",
     "shell.execute_reply": "2023-07-18T14:50:56.622101Z"
    },
    "papermill": {
     "duration": 5.443738,
     "end_time": "2023-07-18T14:50:56.626185",
     "exception": false,
     "start_time": "2023-07-18T14:50:51.182447",
     "status": "completed"
    },
    "tags": []
   },
   "outputs": [
    {
     "name": "stderr",
     "output_type": "stream",
     "text": [
      "23/07/18 14:50:51 WARN package: Truncated the string representation of a plan since it was too large. This behavior can be adjusted by setting 'spark.sql.debug.maxToStringFields'.\n",
      "                                                                                \r"
     ]
    },
    {
     "data": {
      "text/html": [
       "<div>\n",
       "<style scoped>\n",
       "    .dataframe tbody tr th:only-of-type {\n",
       "        vertical-align: middle;\n",
       "    }\n",
       "\n",
       "    .dataframe tbody tr th {\n",
       "        vertical-align: top;\n",
       "    }\n",
       "\n",
       "    .dataframe thead th {\n",
       "        text-align: right;\n",
       "    }\n",
       "</style>\n",
       "<table border=\"1\" class=\"dataframe\">\n",
       "  <thead>\n",
       "    <tr style=\"text-align: right;\">\n",
       "      <th></th>\n",
       "      <th>label</th>\n",
       "      <th>features</th>\n",
       "      <th>age</th>\n",
       "      <th>fnlwgt</th>\n",
       "      <th>education_num</th>\n",
       "      <th>capital_gain</th>\n",
       "      <th>capital_loss</th>\n",
       "      <th>hours_per_week</th>\n",
       "      <th>workclass</th>\n",
       "      <th>education</th>\n",
       "      <th>marital_status</th>\n",
       "      <th>occupation</th>\n",
       "      <th>relationship</th>\n",
       "      <th>race</th>\n",
       "      <th>sex</th>\n",
       "      <th>native_country</th>\n",
       "    </tr>\n",
       "  </thead>\n",
       "  <tbody>\n",
       "    <tr>\n",
       "      <th>0</th>\n",
       "      <td>0.0</td>\n",
       "      <td>(0.0, 0.0, 0.0, 1.0, 0.0, 0.0, 0.0, 0.0, 1.0, ...</td>\n",
       "      <td>90</td>\n",
       "      <td>77053</td>\n",
       "      <td>9</td>\n",
       "      <td>0</td>\n",
       "      <td>4356</td>\n",
       "      <td>40</td>\n",
       "      <td>?</td>\n",
       "      <td>HS-grad</td>\n",
       "      <td>Widowed</td>\n",
       "      <td>?</td>\n",
       "      <td>Not-in-family</td>\n",
       "      <td>White</td>\n",
       "      <td>Female</td>\n",
       "      <td>United-States</td>\n",
       "    </tr>\n",
       "    <tr>\n",
       "      <th>1</th>\n",
       "      <td>0.0</td>\n",
       "      <td>(1.0, 0.0, 0.0, 0.0, 0.0, 0.0, 0.0, 0.0, 1.0, ...</td>\n",
       "      <td>82</td>\n",
       "      <td>132870</td>\n",
       "      <td>9</td>\n",
       "      <td>0</td>\n",
       "      <td>4356</td>\n",
       "      <td>18</td>\n",
       "      <td>Private</td>\n",
       "      <td>HS-grad</td>\n",
       "      <td>Widowed</td>\n",
       "      <td>Exec-managerial</td>\n",
       "      <td>Not-in-family</td>\n",
       "      <td>White</td>\n",
       "      <td>Female</td>\n",
       "      <td>United-States</td>\n",
       "    </tr>\n",
       "    <tr>\n",
       "      <th>2</th>\n",
       "      <td>0.0</td>\n",
       "      <td>(0.0, 0.0, 0.0, 1.0, 0.0, 0.0, 0.0, 0.0, 0.0, ...</td>\n",
       "      <td>66</td>\n",
       "      <td>186061</td>\n",
       "      <td>10</td>\n",
       "      <td>0</td>\n",
       "      <td>4356</td>\n",
       "      <td>40</td>\n",
       "      <td>?</td>\n",
       "      <td>Some-college</td>\n",
       "      <td>Widowed</td>\n",
       "      <td>?</td>\n",
       "      <td>Unmarried</td>\n",
       "      <td>Black</td>\n",
       "      <td>Female</td>\n",
       "      <td>United-States</td>\n",
       "    </tr>\n",
       "    <tr>\n",
       "      <th>3</th>\n",
       "      <td>0.0</td>\n",
       "      <td>(1.0, 0.0, 0.0, 0.0, 0.0, 0.0, 0.0, 0.0, 0.0, ...</td>\n",
       "      <td>54</td>\n",
       "      <td>140359</td>\n",
       "      <td>4</td>\n",
       "      <td>0</td>\n",
       "      <td>3900</td>\n",
       "      <td>40</td>\n",
       "      <td>Private</td>\n",
       "      <td>7th-8th</td>\n",
       "      <td>Divorced</td>\n",
       "      <td>Machine-op-inspct</td>\n",
       "      <td>Unmarried</td>\n",
       "      <td>White</td>\n",
       "      <td>Female</td>\n",
       "      <td>United-States</td>\n",
       "    </tr>\n",
       "    <tr>\n",
       "      <th>4</th>\n",
       "      <td>0.0</td>\n",
       "      <td>(1.0, 0.0, 0.0, 0.0, 0.0, 0.0, 0.0, 0.0, 0.0, ...</td>\n",
       "      <td>41</td>\n",
       "      <td>264663</td>\n",
       "      <td>10</td>\n",
       "      <td>0</td>\n",
       "      <td>3900</td>\n",
       "      <td>40</td>\n",
       "      <td>Private</td>\n",
       "      <td>Some-college</td>\n",
       "      <td>Separated</td>\n",
       "      <td>Prof-specialty</td>\n",
       "      <td>Own-child</td>\n",
       "      <td>White</td>\n",
       "      <td>Female</td>\n",
       "      <td>United-States</td>\n",
       "    </tr>\n",
       "    <tr>\n",
       "      <th>5</th>\n",
       "      <td>0.0</td>\n",
       "      <td>(1.0, 0.0, 0.0, 0.0, 0.0, 0.0, 0.0, 0.0, 1.0, ...</td>\n",
       "      <td>34</td>\n",
       "      <td>216864</td>\n",
       "      <td>9</td>\n",
       "      <td>0</td>\n",
       "      <td>3770</td>\n",
       "      <td>45</td>\n",
       "      <td>Private</td>\n",
       "      <td>HS-grad</td>\n",
       "      <td>Divorced</td>\n",
       "      <td>Other-service</td>\n",
       "      <td>Unmarried</td>\n",
       "      <td>White</td>\n",
       "      <td>Female</td>\n",
       "      <td>United-States</td>\n",
       "    </tr>\n",
       "    <tr>\n",
       "      <th>6</th>\n",
       "      <td>0.0</td>\n",
       "      <td>(1.0, 0.0, 0.0, 0.0, 0.0, 0.0, 0.0, 0.0, 0.0, ...</td>\n",
       "      <td>38</td>\n",
       "      <td>150601</td>\n",
       "      <td>6</td>\n",
       "      <td>0</td>\n",
       "      <td>3770</td>\n",
       "      <td>40</td>\n",
       "      <td>Private</td>\n",
       "      <td>10th</td>\n",
       "      <td>Separated</td>\n",
       "      <td>Adm-clerical</td>\n",
       "      <td>Unmarried</td>\n",
       "      <td>White</td>\n",
       "      <td>Male</td>\n",
       "      <td>United-States</td>\n",
       "    </tr>\n",
       "    <tr>\n",
       "      <th>7</th>\n",
       "      <td>1.0</td>\n",
       "      <td>(0.0, 0.0, 0.0, 0.0, 1.0, 0.0, 0.0, 0.0, 0.0, ...</td>\n",
       "      <td>74</td>\n",
       "      <td>88638</td>\n",
       "      <td>16</td>\n",
       "      <td>0</td>\n",
       "      <td>3683</td>\n",
       "      <td>20</td>\n",
       "      <td>State-gov</td>\n",
       "      <td>Doctorate</td>\n",
       "      <td>Never-married</td>\n",
       "      <td>Prof-specialty</td>\n",
       "      <td>Other-relative</td>\n",
       "      <td>White</td>\n",
       "      <td>Female</td>\n",
       "      <td>United-States</td>\n",
       "    </tr>\n",
       "    <tr>\n",
       "      <th>8</th>\n",
       "      <td>0.0</td>\n",
       "      <td>(0.0, 0.0, 0.0, 0.0, 0.0, 0.0, 1.0, 0.0, 1.0, ...</td>\n",
       "      <td>68</td>\n",
       "      <td>422013</td>\n",
       "      <td>9</td>\n",
       "      <td>0</td>\n",
       "      <td>3683</td>\n",
       "      <td>40</td>\n",
       "      <td>Federal-gov</td>\n",
       "      <td>HS-grad</td>\n",
       "      <td>Divorced</td>\n",
       "      <td>Prof-specialty</td>\n",
       "      <td>Not-in-family</td>\n",
       "      <td>White</td>\n",
       "      <td>Female</td>\n",
       "      <td>United-States</td>\n",
       "    </tr>\n",
       "    <tr>\n",
       "      <th>9</th>\n",
       "      <td>1.0</td>\n",
       "      <td>(1.0, 0.0, 0.0, 0.0, 0.0, 0.0, 0.0, 0.0, 0.0, ...</td>\n",
       "      <td>41</td>\n",
       "      <td>70037</td>\n",
       "      <td>10</td>\n",
       "      <td>0</td>\n",
       "      <td>3004</td>\n",
       "      <td>60</td>\n",
       "      <td>Private</td>\n",
       "      <td>Some-college</td>\n",
       "      <td>Never-married</td>\n",
       "      <td>Craft-repair</td>\n",
       "      <td>Unmarried</td>\n",
       "      <td>White</td>\n",
       "      <td>Male</td>\n",
       "      <td>?</td>\n",
       "    </tr>\n",
       "  </tbody>\n",
       "</table>\n",
       "</div>"
      ],
      "text/plain": [
       "   label                                           features  age  fnlwgt  \\\n",
       "0    0.0  (0.0, 0.0, 0.0, 1.0, 0.0, 0.0, 0.0, 0.0, 1.0, ...   90   77053   \n",
       "1    0.0  (1.0, 0.0, 0.0, 0.0, 0.0, 0.0, 0.0, 0.0, 1.0, ...   82  132870   \n",
       "2    0.0  (0.0, 0.0, 0.0, 1.0, 0.0, 0.0, 0.0, 0.0, 0.0, ...   66  186061   \n",
       "3    0.0  (1.0, 0.0, 0.0, 0.0, 0.0, 0.0, 0.0, 0.0, 0.0, ...   54  140359   \n",
       "4    0.0  (1.0, 0.0, 0.0, 0.0, 0.0, 0.0, 0.0, 0.0, 0.0, ...   41  264663   \n",
       "5    0.0  (1.0, 0.0, 0.0, 0.0, 0.0, 0.0, 0.0, 0.0, 1.0, ...   34  216864   \n",
       "6    0.0  (1.0, 0.0, 0.0, 0.0, 0.0, 0.0, 0.0, 0.0, 0.0, ...   38  150601   \n",
       "7    1.0  (0.0, 0.0, 0.0, 0.0, 1.0, 0.0, 0.0, 0.0, 0.0, ...   74   88638   \n",
       "8    0.0  (0.0, 0.0, 0.0, 0.0, 0.0, 0.0, 1.0, 0.0, 1.0, ...   68  422013   \n",
       "9    1.0  (1.0, 0.0, 0.0, 0.0, 0.0, 0.0, 0.0, 0.0, 0.0, ...   41   70037   \n",
       "\n",
       "   education_num  capital_gain  capital_loss  hours_per_week    workclass  \\\n",
       "0              9             0          4356              40            ?   \n",
       "1              9             0          4356              18      Private   \n",
       "2             10             0          4356              40            ?   \n",
       "3              4             0          3900              40      Private   \n",
       "4             10             0          3900              40      Private   \n",
       "5              9             0          3770              45      Private   \n",
       "6              6             0          3770              40      Private   \n",
       "7             16             0          3683              20    State-gov   \n",
       "8              9             0          3683              40  Federal-gov   \n",
       "9             10             0          3004              60      Private   \n",
       "\n",
       "      education marital_status         occupation    relationship   race  \\\n",
       "0       HS-grad        Widowed                  ?   Not-in-family  White   \n",
       "1       HS-grad        Widowed    Exec-managerial   Not-in-family  White   \n",
       "2  Some-college        Widowed                  ?       Unmarried  Black   \n",
       "3       7th-8th       Divorced  Machine-op-inspct       Unmarried  White   \n",
       "4  Some-college      Separated     Prof-specialty       Own-child  White   \n",
       "5       HS-grad       Divorced      Other-service       Unmarried  White   \n",
       "6          10th      Separated       Adm-clerical       Unmarried  White   \n",
       "7     Doctorate  Never-married     Prof-specialty  Other-relative  White   \n",
       "8       HS-grad       Divorced     Prof-specialty   Not-in-family  White   \n",
       "9  Some-college  Never-married       Craft-repair       Unmarried  White   \n",
       "\n",
       "      sex native_country  \n",
       "0  Female  United-States  \n",
       "1  Female  United-States  \n",
       "2  Female  United-States  \n",
       "3  Female  United-States  \n",
       "4  Female  United-States  \n",
       "5  Female  United-States  \n",
       "6    Male  United-States  \n",
       "7  Female  United-States  \n",
       "8  Female  United-States  \n",
       "9    Male              ?  "
      ]
     },
     "execution_count": 16,
     "metadata": {},
     "output_type": "execute_result"
    }
   ],
   "source": [
    "selectedcols = [\"label\", \"features\"] + all_cols\n",
    "df = df.select(selectedcols)\n",
    "df.toPandas().head(10)"
   ]
  },
  {
   "cell_type": "code",
   "execution_count": 17,
   "id": "aecb689a",
   "metadata": {
    "execution": {
     "iopub.execute_input": "2023-07-18T14:50:56.671296Z",
     "iopub.status.busy": "2023-07-18T14:50:56.670823Z",
     "iopub.status.idle": "2023-07-18T14:51:00.669052Z",
     "shell.execute_reply": "2023-07-18T14:51:00.667826Z"
    },
    "papermill": {
     "duration": 4.026538,
     "end_time": "2023-07-18T14:51:00.674482",
     "exception": false,
     "start_time": "2023-07-18T14:50:56.647944",
     "status": "completed"
    },
    "tags": []
   },
   "outputs": [
    {
     "name": "stderr",
     "output_type": "stream",
     "text": [
      "                                                                                \r"
     ]
    },
    {
     "name": "stdout",
     "output_type": "stream",
     "text": [
      "22832\n"
     ]
    },
    {
     "name": "stderr",
     "output_type": "stream",
     "text": [
      "[Stage 76:>                                                         (0 + 1) / 1]\r"
     ]
    },
    {
     "name": "stdout",
     "output_type": "stream",
     "text": [
      "9729\n"
     ]
    },
    {
     "name": "stderr",
     "output_type": "stream",
     "text": [
      "                                                                                \r"
     ]
    }
   ],
   "source": [
    "(train, test) = df.randomSplit([0.7, 0.3], seed=100)\n",
    "print(train.count())\n",
    "print(test.count())"
   ]
  },
  {
   "cell_type": "code",
   "execution_count": 18,
   "id": "93bff69d",
   "metadata": {
    "execution": {
     "iopub.execute_input": "2023-07-18T14:51:00.740243Z",
     "iopub.status.busy": "2023-07-18T14:51:00.739786Z",
     "iopub.status.idle": "2023-07-18T14:52:00.767517Z",
     "shell.execute_reply": "2023-07-18T14:52:00.766534Z"
    },
    "papermill": {
     "duration": 60.063855,
     "end_time": "2023-07-18T14:52:00.769997",
     "exception": false,
     "start_time": "2023-07-18T14:51:00.706142",
     "status": "completed"
    },
    "tags": []
   },
   "outputs": [
    {
     "name": "stderr",
     "output_type": "stream",
     "text": [
      "23/07/18 14:51:06 WARN InstanceBuilder: Failed to load implementation from:dev.ludovic.netlib.blas.JNIBLAS\n",
      "23/07/18 14:51:47 WARN DAGScheduler: Broadcasting large task binary with size 1004.4 KiB\n",
      "23/07/18 14:51:47 WARN DAGScheduler: Broadcasting large task binary with size 1028.1 KiB\n",
      "23/07/18 14:51:47 WARN DAGScheduler: Broadcasting large task binary with size 1026.7 KiB\n",
      "23/07/18 14:51:47 WARN DAGScheduler: Broadcasting large task binary with size 1027.3 KiB\n",
      "23/07/18 14:51:47 WARN DAGScheduler: Broadcasting large task binary with size 1027.8 KiB\n",
      "23/07/18 14:51:47 WARN DAGScheduler: Broadcasting large task binary with size 1028.9 KiB\n",
      "23/07/18 14:51:48 WARN DAGScheduler: Broadcasting large task binary with size 1030.4 KiB\n",
      "23/07/18 14:51:48 WARN DAGScheduler: Broadcasting large task binary with size 1033.3 KiB\n",
      "23/07/18 14:51:48 WARN DAGScheduler: Broadcasting large task binary with size 1038.6 KiB\n",
      "23/07/18 14:51:48 WARN DAGScheduler: Broadcasting large task binary with size 1048.4 KiB\n",
      "23/07/18 14:51:48 WARN DAGScheduler: Broadcasting large task binary with size 1062.1 KiB\n",
      "23/07/18 14:51:48 WARN DAGScheduler: Broadcasting large task binary with size 1083.5 KiB\n",
      "23/07/18 14:51:49 WARN DAGScheduler: Broadcasting large task binary with size 1083.2 KiB\n",
      "23/07/18 14:51:49 WARN DAGScheduler: Broadcasting large task binary with size 1083.7 KiB\n",
      "23/07/18 14:51:49 WARN DAGScheduler: Broadcasting large task binary with size 1084.3 KiB\n",
      "23/07/18 14:51:49 WARN DAGScheduler: Broadcasting large task binary with size 1085.4 KiB\n",
      "23/07/18 14:51:49 WARN DAGScheduler: Broadcasting large task binary with size 1086.9 KiB\n",
      "23/07/18 14:51:49 WARN DAGScheduler: Broadcasting large task binary with size 1089.8 KiB\n",
      "23/07/18 14:51:49 WARN DAGScheduler: Broadcasting large task binary with size 1095.2 KiB\n",
      "23/07/18 14:51:50 WARN DAGScheduler: Broadcasting large task binary with size 1105.2 KiB\n",
      "23/07/18 14:51:50 WARN DAGScheduler: Broadcasting large task binary with size 1120.8 KiB\n",
      "23/07/18 14:51:50 WARN DAGScheduler: Broadcasting large task binary with size 1144.0 KiB\n",
      "23/07/18 14:51:50 WARN DAGScheduler: Broadcasting large task binary with size 1142.3 KiB\n",
      "23/07/18 14:51:50 WARN DAGScheduler: Broadcasting large task binary with size 1142.8 KiB\n",
      "23/07/18 14:51:50 WARN DAGScheduler: Broadcasting large task binary with size 1143.3 KiB\n",
      "23/07/18 14:51:51 WARN DAGScheduler: Broadcasting large task binary with size 1144.4 KiB\n",
      "23/07/18 14:51:51 WARN DAGScheduler: Broadcasting large task binary with size 1145.9 KiB\n",
      "23/07/18 14:51:51 WARN DAGScheduler: Broadcasting large task binary with size 1148.8 KiB\n",
      "23/07/18 14:51:51 WARN DAGScheduler: Broadcasting large task binary with size 1153.8 KiB\n",
      "23/07/18 14:51:51 WARN DAGScheduler: Broadcasting large task binary with size 1163.6 KiB\n",
      "23/07/18 14:51:51 WARN DAGScheduler: Broadcasting large task binary with size 1178.7 KiB\n",
      "23/07/18 14:51:51 WARN DAGScheduler: Broadcasting large task binary with size 1202.6 KiB\n",
      "23/07/18 14:51:52 WARN DAGScheduler: Broadcasting large task binary with size 1202.8 KiB\n",
      "23/07/18 14:51:52 WARN DAGScheduler: Broadcasting large task binary with size 1203.3 KiB\n",
      "23/07/18 14:51:52 WARN DAGScheduler: Broadcasting large task binary with size 1203.9 KiB\n",
      "23/07/18 14:51:52 WARN DAGScheduler: Broadcasting large task binary with size 1205.0 KiB\n",
      "23/07/18 14:51:52 WARN DAGScheduler: Broadcasting large task binary with size 1206.7 KiB\n",
      "23/07/18 14:51:52 WARN DAGScheduler: Broadcasting large task binary with size 1210.1 KiB\n",
      "23/07/18 14:51:53 WARN DAGScheduler: Broadcasting large task binary with size 1216.0 KiB\n",
      "23/07/18 14:51:53 WARN DAGScheduler: Broadcasting large task binary with size 1226.0 KiB\n",
      "23/07/18 14:51:53 WARN DAGScheduler: Broadcasting large task binary with size 1241.1 KiB\n",
      "23/07/18 14:51:53 WARN DAGScheduler: Broadcasting large task binary with size 1266.0 KiB\n",
      "23/07/18 14:51:53 WARN DAGScheduler: Broadcasting large task binary with size 1263.8 KiB\n",
      "23/07/18 14:51:54 WARN DAGScheduler: Broadcasting large task binary with size 1264.4 KiB\n",
      "23/07/18 14:51:54 WARN DAGScheduler: Broadcasting large task binary with size 1264.9 KiB\n",
      "23/07/18 14:51:54 WARN DAGScheduler: Broadcasting large task binary with size 1266.0 KiB\n",
      "23/07/18 14:51:54 WARN DAGScheduler: Broadcasting large task binary with size 1267.4 KiB\n",
      "23/07/18 14:51:54 WARN DAGScheduler: Broadcasting large task binary with size 1270.4 KiB\n",
      "23/07/18 14:51:54 WARN DAGScheduler: Broadcasting large task binary with size 1276.5 KiB\n",
      "23/07/18 14:51:54 WARN DAGScheduler: Broadcasting large task binary with size 1287.8 KiB\n",
      "23/07/18 14:51:55 WARN DAGScheduler: Broadcasting large task binary with size 1308.0 KiB\n",
      "23/07/18 14:51:55 WARN DAGScheduler: Broadcasting large task binary with size 1338.7 KiB\n",
      "23/07/18 14:51:55 WARN DAGScheduler: Broadcasting large task binary with size 1337.8 KiB\n",
      "23/07/18 14:51:55 WARN DAGScheduler: Broadcasting large task binary with size 1338.3 KiB\n",
      "23/07/18 14:51:55 WARN DAGScheduler: Broadcasting large task binary with size 1338.9 KiB\n",
      "23/07/18 14:51:55 WARN DAGScheduler: Broadcasting large task binary with size 1340.0 KiB\n",
      "23/07/18 14:51:56 WARN DAGScheduler: Broadcasting large task binary with size 1341.4 KiB\n",
      "23/07/18 14:51:56 WARN DAGScheduler: Broadcasting large task binary with size 1344.4 KiB\n",
      "23/07/18 14:51:56 WARN DAGScheduler: Broadcasting large task binary with size 1350.2 KiB\n",
      "23/07/18 14:51:56 WARN DAGScheduler: Broadcasting large task binary with size 1361.3 KiB\n",
      "23/07/18 14:51:56 WARN DAGScheduler: Broadcasting large task binary with size 1379.7 KiB\n",
      "23/07/18 14:51:56 WARN DAGScheduler: Broadcasting large task binary with size 1410.4 KiB\n",
      "23/07/18 14:51:57 WARN DAGScheduler: Broadcasting large task binary with size 1410.8 KiB\n",
      "23/07/18 14:51:57 WARN DAGScheduler: Broadcasting large task binary with size 1411.3 KiB\n",
      "23/07/18 14:51:57 WARN DAGScheduler: Broadcasting large task binary with size 1411.9 KiB\n",
      "23/07/18 14:51:57 WARN DAGScheduler: Broadcasting large task binary with size 1413.0 KiB\n",
      "23/07/18 14:51:57 WARN DAGScheduler: Broadcasting large task binary with size 1414.4 KiB\n",
      "23/07/18 14:51:58 WARN DAGScheduler: Broadcasting large task binary with size 1417.4 KiB\n",
      "23/07/18 14:51:58 WARN DAGScheduler: Broadcasting large task binary with size 1423.5 KiB\n",
      "23/07/18 14:51:58 WARN DAGScheduler: Broadcasting large task binary with size 1435.0 KiB\n",
      "23/07/18 14:51:58 WARN DAGScheduler: Broadcasting large task binary with size 1454.7 KiB\n",
      "23/07/18 14:51:58 WARN DAGScheduler: Broadcasting large task binary with size 1485.2 KiB\n",
      "23/07/18 14:51:58 WARN DAGScheduler: Broadcasting large task binary with size 1482.4 KiB\n",
      "23/07/18 14:51:59 WARN DAGScheduler: Broadcasting large task binary with size 1482.9 KiB\n",
      "23/07/18 14:51:59 WARN DAGScheduler: Broadcasting large task binary with size 1483.5 KiB\n",
      "23/07/18 14:51:59 WARN DAGScheduler: Broadcasting large task binary with size 1484.5 KiB\n",
      "23/07/18 14:51:59 WARN DAGScheduler: Broadcasting large task binary with size 1486.0 KiB\n",
      "23/07/18 14:51:59 WARN DAGScheduler: Broadcasting large task binary with size 1489.0 KiB\n",
      "23/07/18 14:51:59 WARN DAGScheduler: Broadcasting large task binary with size 1495.0 KiB\n",
      "23/07/18 14:52:00 WARN DAGScheduler: Broadcasting large task binary with size 1506.8 KiB\n",
      "23/07/18 14:52:00 WARN DAGScheduler: Broadcasting large task binary with size 1527.4 KiB\n",
      "23/07/18 14:52:00 WARN DAGScheduler: Broadcasting large task binary with size 1559.0 KiB\n"
     ]
    }
   ],
   "source": [
    "from pyspark.ml.classification import (LogisticRegression, DecisionTreeClassifier,RandomForestClassifier, NaiveBayes, GBTClassifier)\n",
    "\n",
    "#Logistic regression model\n",
    "logr = LogisticRegression(\n",
    "    maxIter = 10,\n",
    "    regParam = 0.05,\n",
    "    labelCol=\"label\",\n",
    "    featuresCol=\"features\"\n",
    ")\n",
    "\n",
    "#KNN\n",
    "# k_nn = KNNClassifer(\n",
    "#     numTrees = 10,\n",
    "#     labelCol = \"label\",\n",
    "#     featuresCol=\"features\"\n",
    "# )\n",
    "\n",
    " #decision tree model\n",
    "d_tree = DecisionTreeClassifier(\n",
    "    maxDepth = 10,\n",
    "    labelCol = \"label\",\n",
    "    featuresCol=\"features\"\n",
    ")\n",
    "#NaiveBayes\n",
    "n_bayes = NaiveBayes(\n",
    "#     maxDepth = 10,\n",
    "    labelCol = \"label\",\n",
    "    featuresCol=\"features\"\n",
    ")\n",
    "\n",
    "g_bt = GBTClassifier(\n",
    "    maxDepth = 10,\n",
    "    labelCol = \"label\",\n",
    "    featuresCol=\"features\"\n",
    ")\n",
    "\n",
    "# random forest model\n",
    "r_forest = RandomForestClassifier(\n",
    "    numTrees = 10,\n",
    "    labelCol = \"label\",\n",
    "    featuresCol=\"features\"\n",
    ")\n",
    "\n",
    "\n",
    "# fit models\n",
    "lr_model = logr.fit(train)\n",
    "dt_model = d_tree.fit(train)\n",
    "rf_model = r_forest.fit(train)\n",
    "# knn_model = k_nn.fit(train)\n",
    "nb_model = n_bayes.fit(train)\n",
    "gbt_model = g_bt.fit(train)\n"
   ]
  },
  {
   "cell_type": "code",
   "execution_count": 19,
   "id": "8a2ed508",
   "metadata": {
    "execution": {
     "iopub.execute_input": "2023-07-18T14:52:00.828264Z",
     "iopub.status.busy": "2023-07-18T14:52:00.827464Z",
     "iopub.status.idle": "2023-07-18T14:52:09.953997Z",
     "shell.execute_reply": "2023-07-18T14:52:09.952769Z"
    },
    "papermill": {
     "duration": 9.159338,
     "end_time": "2023-07-18T14:52:09.957306",
     "exception": false,
     "start_time": "2023-07-18T14:52:00.797968",
     "status": "completed"
    },
    "tags": []
   },
   "outputs": [
    {
     "name": "stderr",
     "output_type": "stream",
     "text": [
      "23/07/18 14:52:08 WARN DAGScheduler: Broadcasting large task binary with size 1539.2 KiB\n",
      "                                                                                \r"
     ]
    },
    {
     "data": {
      "text/plain": [
       "{'Logistic regression': 0.8943934992297966,\n",
       " 'Decision tree': 0.8024230566439566,\n",
       " 'Random forest': 0.8729722713295024,\n",
       " 'NaiveBayes': 0.36452231538246793,\n",
       " 'GradientBoostTrees': 0.9040491107274433}"
      ]
     },
     "execution_count": 19,
     "metadata": {},
     "output_type": "execute_result"
    }
   ],
   "source": [
    "from pyspark.ml.evaluation import BinaryClassificationEvaluator\n",
    "# model evaluator\n",
    "def testModel(model, df):\n",
    "    pred = model.transform(df)\n",
    "    evaluator = BinaryClassificationEvaluator(labelCol=\"label\")\n",
    "    return evaluator.evaluate(pred)\n",
    "\n",
    "# accuracy output\n",
    "models = {\n",
    "    \"Logistic regression\": lr_model,\n",
    "    \"Decision tree\": dt_model,\n",
    "    \"Random forest\": rf_model,\n",
    "    \"NaiveBayes\": nb_model,\n",
    "    \"GradientBoostTrees\":gbt_model\n",
    "}\n",
    "\n",
    "# model performance comparisson\n",
    "{model_name: testModel(model, test) for model_name,model in models.items()}"
   ]
  },
  {
   "cell_type": "code",
   "execution_count": 20,
   "id": "82e2bc01",
   "metadata": {
    "execution": {
     "iopub.execute_input": "2023-07-18T14:52:10.021209Z",
     "iopub.status.busy": "2023-07-18T14:52:10.020427Z",
     "iopub.status.idle": "2023-07-18T14:52:10.140156Z",
     "shell.execute_reply": "2023-07-18T14:52:10.138769Z"
    },
    "papermill": {
     "duration": 0.153714,
     "end_time": "2023-07-18T14:52:10.142958",
     "exception": false,
     "start_time": "2023-07-18T14:52:09.989244",
     "status": "completed"
    },
    "tags": []
   },
   "outputs": [
    {
     "name": "stdout",
     "output_type": "stream",
     "text": [
      "root\n",
      " |-- label: double (nullable = false)\n",
      " |-- features: vector (nullable = true)\n",
      " |-- age: integer (nullable = true)\n",
      " |-- fnlwgt: integer (nullable = true)\n",
      " |-- education_num: integer (nullable = true)\n",
      " |-- capital_gain: integer (nullable = true)\n",
      " |-- capital_loss: integer (nullable = true)\n",
      " |-- hours_per_week: integer (nullable = true)\n",
      " |-- workclass: string (nullable = true)\n",
      " |-- education: string (nullable = true)\n",
      " |-- marital_status: string (nullable = true)\n",
      " |-- occupation: string (nullable = true)\n",
      " |-- relationship: string (nullable = true)\n",
      " |-- race: string (nullable = true)\n",
      " |-- sex: string (nullable = true)\n",
      " |-- native_country: string (nullable = true)\n",
      " |-- rawPrediction: vector (nullable = true)\n",
      " |-- probability: vector (nullable = true)\n",
      " |-- prediction: double (nullable = false)\n",
      "\n"
     ]
    }
   ],
   "source": [
    "predictions = lr_model.transform(test)\n",
    "predictions.printSchema()"
   ]
  },
  {
   "cell_type": "code",
   "execution_count": 21,
   "id": "331761f2",
   "metadata": {
    "execution": {
     "iopub.execute_input": "2023-07-18T14:52:10.205621Z",
     "iopub.status.busy": "2023-07-18T14:52:10.205203Z",
     "iopub.status.idle": "2023-07-18T14:52:11.638873Z",
     "shell.execute_reply": "2023-07-18T14:52:11.638016Z"
    },
    "papermill": {
     "duration": 1.471172,
     "end_time": "2023-07-18T14:52:11.643997",
     "exception": false,
     "start_time": "2023-07-18T14:52:10.172825",
     "status": "completed"
    },
    "tags": []
   },
   "outputs": [
    {
     "name": "stderr",
     "output_type": "stream",
     "text": [
      "[Stage 582:>                                                        (0 + 1) / 1]\r"
     ]
    },
    {
     "name": "stdout",
     "output_type": "stream",
     "text": [
      "+-----+--------------------+----------+---+--------------+------+--------------+\n",
      "|label|         probability|prediction|age|    occupation|   sex|hours_per_week|\n",
      "+-----+--------------------+----------+---+--------------+------+--------------+\n",
      "|  0.0|[0.29587245995467...|       1.0| 36|Prof-specialty|  Male|            60|\n",
      "|  0.0|[0.66874817876628...|       0.0| 32|Prof-specialty|  Male|            40|\n",
      "|  0.0|[0.56812374211772...|       0.0| 33|Prof-specialty|  Male|            60|\n",
      "|  0.0|[0.64949942482009...|       0.0| 39|Prof-specialty|  Male|            40|\n",
      "|  0.0|[0.61863901973377...|       0.0| 39|Prof-specialty|  Male|            45|\n",
      "|  0.0|[0.60635940124204...|       0.0| 50|Prof-specialty|  Male|            40|\n",
      "|  0.0|[0.60157267853152...|       0.0| 51|Prof-specialty|  Male|            40|\n",
      "|  0.0|[0.60306827555701...|       0.0| 60|Prof-specialty|  Male|            30|\n",
      "|  0.0|[0.70128008415338...|       0.0| 34|Prof-specialty|  Male|            40|\n",
      "|  0.0|[0.92967610098900...|       0.0| 20|Prof-specialty|Female|            36|\n",
      "|  0.0|[0.58533865717760...|       0.0| 35|Prof-specialty|Female|            35|\n",
      "|  0.0|[0.57655629847061...|       0.0| 42|Prof-specialty|Female|            40|\n",
      "|  0.0|[0.60388921314968...|       0.0| 43|Prof-specialty|Female|            35|\n",
      "|  0.0|[0.69860841153689...|       0.0| 48|Prof-specialty|Female|             8|\n",
      "|  0.0|[0.65354575250929...|       0.0| 50|Prof-specialty|Female|            16|\n",
      "+-----+--------------------+----------+---+--------------+------+--------------+\n",
      "only showing top 15 rows\n",
      "\n"
     ]
    },
    {
     "name": "stderr",
     "output_type": "stream",
     "text": [
      "                                                                                \r"
     ]
    }
   ],
   "source": [
    "inspect_cols = [\"label\", \"probability\", \"prediction\", \"age\", \"occupation\", \"sex\", \"hours_per_week\"]\n",
    "predictions.select(inspect_cols).show(15)"
   ]
  },
  {
   "cell_type": "code",
   "execution_count": null,
   "id": "965181ab",
   "metadata": {
    "papermill": {
     "duration": 0.029861,
     "end_time": "2023-07-18T14:52:11.703466",
     "exception": false,
     "start_time": "2023-07-18T14:52:11.673605",
     "status": "completed"
    },
    "tags": []
   },
   "outputs": [],
   "source": []
  }
 ],
 "metadata": {
  "kernelspec": {
   "display_name": "Python 3",
   "language": "python",
   "name": "python3"
  },
  "language_info": {
   "codemirror_mode": {
    "name": "ipython",
    "version": 3
   },
   "file_extension": ".py",
   "mimetype": "text/x-python",
   "name": "python",
   "nbconvert_exporter": "python",
   "pygments_lexer": "ipython3",
   "version": "3.10.10"
  },
  "papermill": {
   "default_parameters": {},
   "duration": 181.960173,
   "end_time": "2023-07-18T14:52:14.354039",
   "environment_variables": {},
   "exception": null,
   "input_path": "__notebook__.ipynb",
   "output_path": "__notebook__.ipynb",
   "parameters": {},
   "start_time": "2023-07-18T14:49:12.393866",
   "version": "2.4.0"
  }
 },
 "nbformat": 4,
 "nbformat_minor": 5
}
