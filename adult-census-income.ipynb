{
 "cells": [
  {
   "cell_type": "code",
   "execution_count": 1,
   "id": "1ab88984",
   "metadata": {
    "execution": {
     "iopub.execute_input": "2023-07-18T14:50:49.851220Z",
     "iopub.status.busy": "2023-07-18T14:50:49.850686Z",
     "iopub.status.idle": "2023-07-18T14:50:49.857524Z",
     "shell.execute_reply": "2023-07-18T14:50:49.856120Z"
    },
    "papermill": {
     "duration": 0.02319,
     "end_time": "2023-07-18T14:50:49.864198",
     "exception": false,
     "start_time": "2023-07-18T14:50:49.841008",
     "status": "completed"
    },
    "tags": []
   },
   "outputs": [],
   "source": [
    "#Homework 5  1st question about loading and preprocessing the data."
   ]
  },
  {
   "cell_type": "code",
   "execution_count": 2,
   "id": "23add246",
   "metadata": {
    "execution": {
     "iopub.execute_input": "2023-07-18T14:50:49.881363Z",
     "iopub.status.busy": "2023-07-18T14:50:49.880942Z",
     "iopub.status.idle": "2023-07-18T14:51:43.556669Z",
     "shell.execute_reply": "2023-07-18T14:51:43.555386Z"
    },
    "papermill": {
     "duration": 53.687652,
     "end_time": "2023-07-18T14:51:43.559527",
     "exception": false,
     "start_time": "2023-07-18T14:50:49.871875",
     "status": "completed"
    },
    "tags": []
   },
   "outputs": [
    {
     "name": "stdout",
     "output_type": "stream",
     "text": [
      "Collecting pyspark\r\n",
      "  Downloading pyspark-3.4.1.tar.gz (310.8 MB)\r\n",
      "\u001b[2K     \u001b[90m━━━━━━━━━━━━━━━━━━━━━━━━━━━━━━━━━━━━━━━\u001b[0m \u001b[32m310.8/310.8 MB\u001b[0m \u001b[31m3.5 MB/s\u001b[0m eta \u001b[36m0:00:00\u001b[0m\r\n",
      "\u001b[?25h  Preparing metadata (setup.py) ... \u001b[?25l-\b \b\\\b \b|\b \bdone\r\n",
      "\u001b[?25hRequirement already satisfied: py4j==0.10.9.7 in /opt/conda/lib/python3.10/site-packages (from pyspark) (0.10.9.7)\r\n",
      "Building wheels for collected packages: pyspark\r\n",
      "  Building wheel for pyspark (setup.py) ... \u001b[?25l-\b \b\\\b \b|\b \b/\b \b-\b \b\\\b \b|\b \b/\b \b-\b \b\\\b \b|\b \b/\b \b-\b \b\\\b \bdone\r\n",
      "\u001b[?25h  Created wheel for pyspark: filename=pyspark-3.4.1-py2.py3-none-any.whl size=311285413 sha256=982579bdd27acd29c8e4b8b27ed8cabf904abc3ead641762afbfb6244b2ebf20\r\n",
      "  Stored in directory: /root/.cache/pip/wheels/0d/77/a3/ff2f74cc9ab41f8f594dabf0579c2a7c6de920d584206e0834\r\n",
      "Successfully built pyspark\r\n",
      "Installing collected packages: pyspark\r\n",
      "Successfully installed pyspark-3.4.1\r\n",
      "\u001b[33mWARNING: Running pip as the 'root' user can result in broken permissions and conflicting behaviour with the system package manager. It is recommended to use a virtual environment instead: https://pip.pypa.io/warnings/venv\u001b[0m\u001b[33m\r\n",
      "\u001b[0m"
     ]
    },
    {
     "name": "stderr",
     "output_type": "stream",
     "text": [
      "/opt/conda/lib/python3.10/site-packages/scipy/__init__.py:146: UserWarning: A NumPy version >=1.16.5 and <1.23.0 is required for this version of SciPy (detected version 1.23.5\n",
      "  warnings.warn(f\"A NumPy version >={np_minversion} and <{np_maxversion}\"\n"
     ]
    }
   ],
   "source": [
    "!pip install pyspark\n",
    "from subprocess import check_output\n",
    "from pyspark.sql import SparkSession\n",
    "import pandas as pd \n",
    "import numpy as np\n",
    "from pyspark.sql.functions import (count, col)\n",
    "from pyspark.ml import Pipeline"
   ]
  },
  {
   "cell_type": "code",
   "execution_count": 3,
   "id": "7fa41f34",
   "metadata": {
    "execution": {
     "iopub.execute_input": "2023-07-18T14:51:43.599434Z",
     "iopub.status.busy": "2023-07-18T14:51:43.599058Z",
     "iopub.status.idle": "2023-07-18T14:51:45.011871Z",
     "shell.execute_reply": "2023-07-18T14:51:45.010675Z"
    },
    "papermill": {
     "duration": 1.436127,
     "end_time": "2023-07-18T14:51:45.014684",
     "exception": false,
     "start_time": "2023-07-18T14:51:43.578557",
     "status": "completed"
    },
    "tags": []
   },
   "outputs": [
    {
     "name": "stdout",
     "output_type": "stream",
     "text": [
      "Traceback (most recent call last):\r\n",
      "  File \"/opt/conda/bin/kaggle\", line 5, in <module>\r\n",
      "    from kaggle.cli import main\r\n",
      "  File \"/opt/conda/lib/python3.10/site-packages/kaggle/__init__.py\", line 23, in <module>\r\n",
      "    api.authenticate()\r\n",
      "  File \"/opt/conda/lib/python3.10/site-packages/kaggle/api/kaggle_api_extended.py\", line 164, in authenticate\r\n",
      "    raise IOError('Could not find {}. Make sure it\\'s located in'\r\n",
      "OSError: Could not find kaggle.json. Make sure it's located in /root/.kaggle. Or use the environment method.\r\n"
     ]
    }
   ],
   "source": [
    "!kaggle datasets download -d uciml/adult-census-income\n"
   ]
  },
  {
   "cell_type": "code",
   "execution_count": 4,
   "id": "ca73514a",
   "metadata": {
    "execution": {
     "iopub.execute_input": "2023-07-18T14:51:45.056098Z",
     "iopub.status.busy": "2023-07-18T14:51:45.055655Z",
     "iopub.status.idle": "2023-07-18T14:52:00.395398Z",
     "shell.execute_reply": "2023-07-18T14:52:00.393595Z"
    },
    "papermill": {
     "duration": 15.365182,
     "end_time": "2023-07-18T14:52:00.399584",
     "exception": false,
     "start_time": "2023-07-18T14:51:45.034402",
     "status": "completed"
    },
    "tags": []
   },
   "outputs": [
    {
     "name": "stderr",
     "output_type": "stream",
     "text": [
      "Setting default log level to \"WARN\".\n",
      "To adjust logging level use sc.setLogLevel(newLevel). For SparkR, use setLogLevel(newLevel).\n",
      "23/07/18 14:51:49 WARN NativeCodeLoader: Unable to load native-hadoop library for your platform... using builtin-java classes where applicable\n",
      "                                                                                \r"
     ]
    }
   ],
   "source": [
    "from pyspark.sql import SparkSession\n",
    "spark = SparkSession.builder.appName(\"MyApp\").getOrCreate()\n",
    "df = spark.read.format('csv').option('header', True).load('/kaggle/input/adult-census-income',header=True, inferSchema=True)\n"
   ]
  },
  {
   "cell_type": "code",
   "execution_count": 5,
   "id": "a779bef3",
   "metadata": {
    "execution": {
     "iopub.execute_input": "2023-07-18T14:52:00.451095Z",
     "iopub.status.busy": "2023-07-18T14:52:00.450633Z",
     "iopub.status.idle": "2023-07-18T14:52:00.460832Z",
     "shell.execute_reply": "2023-07-18T14:52:00.459703Z"
    },
    "papermill": {
     "duration": 0.035041,
     "end_time": "2023-07-18T14:52:00.463342",
     "exception": false,
     "start_time": "2023-07-18T14:52:00.428301",
     "status": "completed"
    },
    "tags": []
   },
   "outputs": [
    {
     "name": "stdout",
     "output_type": "stream",
     "text": [
      "root\n",
      " |-- age: integer (nullable = true)\n",
      " |-- workclass: string (nullable = true)\n",
      " |-- fnlwgt: integer (nullable = true)\n",
      " |-- education: string (nullable = true)\n",
      " |-- education.num: integer (nullable = true)\n",
      " |-- marital.status: string (nullable = true)\n",
      " |-- occupation: string (nullable = true)\n",
      " |-- relationship: string (nullable = true)\n",
      " |-- race: string (nullable = true)\n",
      " |-- sex: string (nullable = true)\n",
      " |-- capital.gain: integer (nullable = true)\n",
      " |-- capital.loss: integer (nullable = true)\n",
      " |-- hours.per.week: integer (nullable = true)\n",
      " |-- native.country: string (nullable = true)\n",
      " |-- income: string (nullable = true)\n",
      "\n"
     ]
    }
   ],
   "source": [
    "df.printSchema()"
   ]
  },
  {
   "cell_type": "code",
   "execution_count": 6,
   "id": "a79e73a7",
   "metadata": {
    "execution": {
     "iopub.execute_input": "2023-07-18T14:52:00.507328Z",
     "iopub.status.busy": "2023-07-18T14:52:00.506524Z",
     "iopub.status.idle": "2023-07-18T14:52:02.599416Z",
     "shell.execute_reply": "2023-07-18T14:52:02.598221Z"
    },
    "papermill": {
     "duration": 2.118204,
     "end_time": "2023-07-18T14:52:02.602016",
     "exception": false,
     "start_time": "2023-07-18T14:52:00.483812",
     "status": "completed"
    },
    "tags": []
   },
   "outputs": [
    {
     "name": "stderr",
     "output_type": "stream",
     "text": [
      "                                                                                \r"
     ]
    },
    {
     "data": {
      "text/html": [
       "<div>\n",
       "<style scoped>\n",
       "    .dataframe tbody tr th:only-of-type {\n",
       "        vertical-align: middle;\n",
       "    }\n",
       "\n",
       "    .dataframe tbody tr th {\n",
       "        vertical-align: top;\n",
       "    }\n",
       "\n",
       "    .dataframe thead th {\n",
       "        text-align: right;\n",
       "    }\n",
       "</style>\n",
       "<table border=\"1\" class=\"dataframe\">\n",
       "  <thead>\n",
       "    <tr style=\"text-align: right;\">\n",
       "      <th></th>\n",
       "      <th>age</th>\n",
       "      <th>workclass</th>\n",
       "      <th>fnlwgt</th>\n",
       "      <th>education</th>\n",
       "      <th>education.num</th>\n",
       "      <th>marital.status</th>\n",
       "      <th>occupation</th>\n",
       "      <th>relationship</th>\n",
       "      <th>race</th>\n",
       "      <th>sex</th>\n",
       "      <th>capital.gain</th>\n",
       "      <th>capital.loss</th>\n",
       "      <th>hours.per.week</th>\n",
       "      <th>native.country</th>\n",
       "      <th>income</th>\n",
       "    </tr>\n",
       "  </thead>\n",
       "  <tbody>\n",
       "    <tr>\n",
       "      <th>0</th>\n",
       "      <td>90</td>\n",
       "      <td>?</td>\n",
       "      <td>77053</td>\n",
       "      <td>HS-grad</td>\n",
       "      <td>9</td>\n",
       "      <td>Widowed</td>\n",
       "      <td>?</td>\n",
       "      <td>Not-in-family</td>\n",
       "      <td>White</td>\n",
       "      <td>Female</td>\n",
       "      <td>0</td>\n",
       "      <td>4356</td>\n",
       "      <td>40</td>\n",
       "      <td>United-States</td>\n",
       "      <td>&lt;=50K</td>\n",
       "    </tr>\n",
       "    <tr>\n",
       "      <th>1</th>\n",
       "      <td>82</td>\n",
       "      <td>Private</td>\n",
       "      <td>132870</td>\n",
       "      <td>HS-grad</td>\n",
       "      <td>9</td>\n",
       "      <td>Widowed</td>\n",
       "      <td>Exec-managerial</td>\n",
       "      <td>Not-in-family</td>\n",
       "      <td>White</td>\n",
       "      <td>Female</td>\n",
       "      <td>0</td>\n",
       "      <td>4356</td>\n",
       "      <td>18</td>\n",
       "      <td>United-States</td>\n",
       "      <td>&lt;=50K</td>\n",
       "    </tr>\n",
       "    <tr>\n",
       "      <th>2</th>\n",
       "      <td>66</td>\n",
       "      <td>?</td>\n",
       "      <td>186061</td>\n",
       "      <td>Some-college</td>\n",
       "      <td>10</td>\n",
       "      <td>Widowed</td>\n",
       "      <td>?</td>\n",
       "      <td>Unmarried</td>\n",
       "      <td>Black</td>\n",
       "      <td>Female</td>\n",
       "      <td>0</td>\n",
       "      <td>4356</td>\n",
       "      <td>40</td>\n",
       "      <td>United-States</td>\n",
       "      <td>&lt;=50K</td>\n",
       "    </tr>\n",
       "    <tr>\n",
       "      <th>3</th>\n",
       "      <td>54</td>\n",
       "      <td>Private</td>\n",
       "      <td>140359</td>\n",
       "      <td>7th-8th</td>\n",
       "      <td>4</td>\n",
       "      <td>Divorced</td>\n",
       "      <td>Machine-op-inspct</td>\n",
       "      <td>Unmarried</td>\n",
       "      <td>White</td>\n",
       "      <td>Female</td>\n",
       "      <td>0</td>\n",
       "      <td>3900</td>\n",
       "      <td>40</td>\n",
       "      <td>United-States</td>\n",
       "      <td>&lt;=50K</td>\n",
       "    </tr>\n",
       "    <tr>\n",
       "      <th>4</th>\n",
       "      <td>41</td>\n",
       "      <td>Private</td>\n",
       "      <td>264663</td>\n",
       "      <td>Some-college</td>\n",
       "      <td>10</td>\n",
       "      <td>Separated</td>\n",
       "      <td>Prof-specialty</td>\n",
       "      <td>Own-child</td>\n",
       "      <td>White</td>\n",
       "      <td>Female</td>\n",
       "      <td>0</td>\n",
       "      <td>3900</td>\n",
       "      <td>40</td>\n",
       "      <td>United-States</td>\n",
       "      <td>&lt;=50K</td>\n",
       "    </tr>\n",
       "    <tr>\n",
       "      <th>5</th>\n",
       "      <td>34</td>\n",
       "      <td>Private</td>\n",
       "      <td>216864</td>\n",
       "      <td>HS-grad</td>\n",
       "      <td>9</td>\n",
       "      <td>Divorced</td>\n",
       "      <td>Other-service</td>\n",
       "      <td>Unmarried</td>\n",
       "      <td>White</td>\n",
       "      <td>Female</td>\n",
       "      <td>0</td>\n",
       "      <td>3770</td>\n",
       "      <td>45</td>\n",
       "      <td>United-States</td>\n",
       "      <td>&lt;=50K</td>\n",
       "    </tr>\n",
       "    <tr>\n",
       "      <th>6</th>\n",
       "      <td>38</td>\n",
       "      <td>Private</td>\n",
       "      <td>150601</td>\n",
       "      <td>10th</td>\n",
       "      <td>6</td>\n",
       "      <td>Separated</td>\n",
       "      <td>Adm-clerical</td>\n",
       "      <td>Unmarried</td>\n",
       "      <td>White</td>\n",
       "      <td>Male</td>\n",
       "      <td>0</td>\n",
       "      <td>3770</td>\n",
       "      <td>40</td>\n",
       "      <td>United-States</td>\n",
       "      <td>&lt;=50K</td>\n",
       "    </tr>\n",
       "    <tr>\n",
       "      <th>7</th>\n",
       "      <td>74</td>\n",
       "      <td>State-gov</td>\n",
       "      <td>88638</td>\n",
       "      <td>Doctorate</td>\n",
       "      <td>16</td>\n",
       "      <td>Never-married</td>\n",
       "      <td>Prof-specialty</td>\n",
       "      <td>Other-relative</td>\n",
       "      <td>White</td>\n",
       "      <td>Female</td>\n",
       "      <td>0</td>\n",
       "      <td>3683</td>\n",
       "      <td>20</td>\n",
       "      <td>United-States</td>\n",
       "      <td>&gt;50K</td>\n",
       "    </tr>\n",
       "    <tr>\n",
       "      <th>8</th>\n",
       "      <td>68</td>\n",
       "      <td>Federal-gov</td>\n",
       "      <td>422013</td>\n",
       "      <td>HS-grad</td>\n",
       "      <td>9</td>\n",
       "      <td>Divorced</td>\n",
       "      <td>Prof-specialty</td>\n",
       "      <td>Not-in-family</td>\n",
       "      <td>White</td>\n",
       "      <td>Female</td>\n",
       "      <td>0</td>\n",
       "      <td>3683</td>\n",
       "      <td>40</td>\n",
       "      <td>United-States</td>\n",
       "      <td>&lt;=50K</td>\n",
       "    </tr>\n",
       "    <tr>\n",
       "      <th>9</th>\n",
       "      <td>41</td>\n",
       "      <td>Private</td>\n",
       "      <td>70037</td>\n",
       "      <td>Some-college</td>\n",
       "      <td>10</td>\n",
       "      <td>Never-married</td>\n",
       "      <td>Craft-repair</td>\n",
       "      <td>Unmarried</td>\n",
       "      <td>White</td>\n",
       "      <td>Male</td>\n",
       "      <td>0</td>\n",
       "      <td>3004</td>\n",
       "      <td>60</td>\n",
       "      <td>?</td>\n",
       "      <td>&gt;50K</td>\n",
       "    </tr>\n",
       "  </tbody>\n",
       "</table>\n",
       "</div>"
      ],
      "text/plain": [
       "   age    workclass  fnlwgt     education  education.num marital.status  \\\n",
       "0   90            ?   77053       HS-grad              9        Widowed   \n",
       "1   82      Private  132870       HS-grad              9        Widowed   \n",
       "2   66            ?  186061  Some-college             10        Widowed   \n",
       "3   54      Private  140359       7th-8th              4       Divorced   \n",
       "4   41      Private  264663  Some-college             10      Separated   \n",
       "5   34      Private  216864       HS-grad              9       Divorced   \n",
       "6   38      Private  150601          10th              6      Separated   \n",
       "7   74    State-gov   88638     Doctorate             16  Never-married   \n",
       "8   68  Federal-gov  422013       HS-grad              9       Divorced   \n",
       "9   41      Private   70037  Some-college             10  Never-married   \n",
       "\n",
       "          occupation    relationship   race     sex  capital.gain  \\\n",
       "0                  ?   Not-in-family  White  Female             0   \n",
       "1    Exec-managerial   Not-in-family  White  Female             0   \n",
       "2                  ?       Unmarried  Black  Female             0   \n",
       "3  Machine-op-inspct       Unmarried  White  Female             0   \n",
       "4     Prof-specialty       Own-child  White  Female             0   \n",
       "5      Other-service       Unmarried  White  Female             0   \n",
       "6       Adm-clerical       Unmarried  White    Male             0   \n",
       "7     Prof-specialty  Other-relative  White  Female             0   \n",
       "8     Prof-specialty   Not-in-family  White  Female             0   \n",
       "9       Craft-repair       Unmarried  White    Male             0   \n",
       "\n",
       "   capital.loss  hours.per.week native.country income  \n",
       "0          4356              40  United-States  <=50K  \n",
       "1          4356              18  United-States  <=50K  \n",
       "2          4356              40  United-States  <=50K  \n",
       "3          3900              40  United-States  <=50K  \n",
       "4          3900              40  United-States  <=50K  \n",
       "5          3770              45  United-States  <=50K  \n",
       "6          3770              40  United-States  <=50K  \n",
       "7          3683              20  United-States   >50K  \n",
       "8          3683              40  United-States  <=50K  \n",
       "9          3004              60              ?   >50K  "
      ]
     },
     "execution_count": 6,
     "metadata": {},
     "output_type": "execute_result"
    }
   ],
   "source": [
    "df.toPandas().head(10)\n"
   ]
  },
  {
   "cell_type": "code",
   "execution_count": 7,
   "id": "d91adba2",
   "metadata": {
    "execution": {
     "iopub.execute_input": "2023-07-18T14:52:02.644972Z",
     "iopub.status.busy": "2023-07-18T14:52:02.644571Z",
     "iopub.status.idle": "2023-07-18T14:52:02.945852Z",
     "shell.execute_reply": "2023-07-18T14:52:02.944564Z"
    },
    "papermill": {
     "duration": 0.326961,
     "end_time": "2023-07-18T14:52:02.949767",
     "exception": false,
     "start_time": "2023-07-18T14:52:02.622806",
     "status": "completed"
    },
    "tags": []
   },
   "outputs": [],
   "source": [
    "education_num = col(\"`education.num`\")\n",
    "capital_gain = col(\"`capital.gain`\")\n",
    "capital_loss = col(\"`capital.loss`\")\n",
    "hours_per_week = col(\"`hours.per.week`\")\n",
    "marital_status = col(\"`marital.status`\")\n",
    "native_country = col(\"`native.country`\")\n",
    "\n",
    "# rename dot-name columns\n",
    "df = df.withColumn(\"education_num\", education_num).drop(education_num)\\\n",
    "    .withColumn(\"capital_gain\", capital_gain).drop(capital_gain)\\\n",
    "    .withColumn(\"capital_loss\", capital_loss).drop(capital_loss)\\\n",
    "    .withColumn(\"hours_per_week\", hours_per_week).drop(hours_per_week)\\\n",
    "    .withColumn(\"marital_status\", marital_status).drop(marital_status)\\\n",
    "    .withColumn(\"native_country\", native_country).drop(native_country)"
   ]
  },
  {
   "cell_type": "code",
   "execution_count": 8,
   "id": "99b2ee62",
   "metadata": {
    "execution": {
     "iopub.execute_input": "2023-07-18T14:52:02.998472Z",
     "iopub.status.busy": "2023-07-18T14:52:02.997998Z",
     "iopub.status.idle": "2023-07-18T14:52:03.003031Z",
     "shell.execute_reply": "2023-07-18T14:52:03.002113Z"
    },
    "papermill": {
     "duration": 0.033149,
     "end_time": "2023-07-18T14:52:03.005516",
     "exception": false,
     "start_time": "2023-07-18T14:52:02.972367",
     "status": "completed"
    },
    "tags": []
   },
   "outputs": [],
   "source": [
    "num_vars = [\"age\", \"fnlwgt\", \"education_num\", \"capital_gain\", \"capital_loss\", \"hours_per_week\"]"
   ]
  },
  {
   "cell_type": "code",
   "execution_count": 9,
   "id": "76053f5a",
   "metadata": {
    "execution": {
     "iopub.execute_input": "2023-07-18T14:52:03.049584Z",
     "iopub.status.busy": "2023-07-18T14:52:03.048428Z",
     "iopub.status.idle": "2023-07-18T14:52:03.053749Z",
     "shell.execute_reply": "2023-07-18T14:52:03.052831Z"
    },
    "papermill": {
     "duration": 0.029984,
     "end_time": "2023-07-18T14:52:03.056217",
     "exception": false,
     "start_time": "2023-07-18T14:52:03.026233",
     "status": "completed"
    },
    "tags": []
   },
   "outputs": [],
   "source": [
    "cat_vars = [\"workclass\", \"education\", \"marital_status\", \"occupation\", \n",
    "            \"relationship\", \"race\", \"sex\", \"native_country\"]"
   ]
  },
  {
   "cell_type": "code",
   "execution_count": 10,
   "id": "778d8e6a",
   "metadata": {
    "execution": {
     "iopub.execute_input": "2023-07-18T14:52:03.099960Z",
     "iopub.status.busy": "2023-07-18T14:52:03.099159Z",
     "iopub.status.idle": "2023-07-18T14:52:09.218416Z",
     "shell.execute_reply": "2023-07-18T14:52:09.217179Z"
    },
    "papermill": {
     "duration": 6.145307,
     "end_time": "2023-07-18T14:52:09.221902",
     "exception": false,
     "start_time": "2023-07-18T14:52:03.076595",
     "status": "completed"
    },
    "tags": []
   },
   "outputs": [
    {
     "data": {
      "text/plain": [
       "{'age': 0,\n",
       " 'fnlwgt': 0,\n",
       " 'education_num': 0,\n",
       " 'capital_gain': 0,\n",
       " 'capital_loss': 0,\n",
       " 'hours_per_week': 0,\n",
       " 'workclass': 0,\n",
       " 'education': 0,\n",
       " 'marital_status': 0,\n",
       " 'occupation': 0,\n",
       " 'relationship': 0,\n",
       " 'race': 0,\n",
       " 'sex': 0,\n",
       " 'native_country': 0}"
      ]
     },
     "execution_count": 10,
     "metadata": {},
     "output_type": "execute_result"
    }
   ],
   "source": [
    "def countNull(df, var):\n",
    "    return df.where(df[var].isNull()).count()\n",
    "\n",
    "all_cols = num_vars + cat_vars\n",
    "{var: countNull(df, var) for var in all_cols}"
   ]
  },
  {
   "cell_type": "code",
   "execution_count": 11,
   "id": "7fbf1560",
   "metadata": {
    "execution": {
     "iopub.execute_input": "2023-07-18T14:52:09.283818Z",
     "iopub.status.busy": "2023-07-18T14:52:09.283269Z",
     "iopub.status.idle": "2023-07-18T14:52:09.451105Z",
     "shell.execute_reply": "2023-07-18T14:52:09.449589Z"
    },
    "papermill": {
     "duration": 0.204921,
     "end_time": "2023-07-18T14:52:09.456689",
     "exception": false,
     "start_time": "2023-07-18T14:52:09.251768",
     "status": "completed"
    },
    "tags": []
   },
   "outputs": [],
   "source": [
    "\n",
    "from pyspark.ml.feature import StringIndexer,OneHotEncoder,VectorAssembler\n",
    "\n",
    "stages = []\n",
    "for cat_var in cat_vars:\n",
    "    # Category Indexing with StringIndexer\n",
    "    stringIndexer = StringIndexer(\n",
    "        inputCol=cat_var, \n",
    "        outputCol=cat_var+\"_indx\")\n",
    "    # Use OneHotEncoder to convert categorical variables into binary SparseVectors\n",
    "    encoder = OneHotEncoder(\n",
    "        inputCols=[stringIndexer.getOutputCol()], \n",
    "        outputCols=[cat_var + \"_vec\"])\n",
    "    # Add stages.  These are not run here, but will run all at once later on.\n",
    "    stages += [stringIndexer, encoder]"
   ]
  },
  {
   "cell_type": "code",
   "execution_count": 12,
   "id": "ae82297e",
   "metadata": {
    "execution": {
     "iopub.execute_input": "2023-07-18T14:52:09.530952Z",
     "iopub.status.busy": "2023-07-18T14:52:09.530311Z",
     "iopub.status.idle": "2023-07-18T14:52:09.544182Z",
     "shell.execute_reply": "2023-07-18T14:52:09.542831Z"
    },
    "papermill": {
     "duration": 0.051059,
     "end_time": "2023-07-18T14:52:09.547653",
     "exception": false,
     "start_time": "2023-07-18T14:52:09.496594",
     "status": "completed"
    },
    "tags": []
   },
   "outputs": [],
   "source": [
    "label_indx = StringIndexer(\n",
    "    inputCol=\"income\", \n",
    "    outputCol=\"label\")\n",
    "stages += [label_indx]\n"
   ]
  },
  {
   "cell_type": "code",
   "execution_count": 13,
   "id": "8e7a986f",
   "metadata": {
    "execution": {
     "iopub.execute_input": "2023-07-18T14:52:09.606743Z",
     "iopub.status.busy": "2023-07-18T14:52:09.605729Z",
     "iopub.status.idle": "2023-07-18T14:52:09.624480Z",
     "shell.execute_reply": "2023-07-18T14:52:09.622897Z"
    },
    "papermill": {
     "duration": 0.04836,
     "end_time": "2023-07-18T14:52:09.627300",
     "exception": false,
     "start_time": "2023-07-18T14:52:09.578940",
     "status": "completed"
    },
    "tags": []
   },
   "outputs": [],
   "source": [
    "assembler_inputs = [c+\"_vec\" for c in cat_vars] + num_vars\n",
    "assembler = VectorAssembler(\n",
    "    inputCols=assembler_inputs, \n",
    "    outputCol=\"features\")\n",
    "stages += [assembler]"
   ]
  },
  {
   "cell_type": "code",
   "execution_count": 14,
   "id": "8b5c6462",
   "metadata": {
    "execution": {
     "iopub.execute_input": "2023-07-18T14:52:09.670771Z",
     "iopub.status.busy": "2023-07-18T14:52:09.669521Z",
     "iopub.status.idle": "2023-07-18T14:52:09.675284Z",
     "shell.execute_reply": "2023-07-18T14:52:09.674325Z"
    },
    "papermill": {
     "duration": 0.029994,
     "end_time": "2023-07-18T14:52:09.677742",
     "exception": false,
     "start_time": "2023-07-18T14:52:09.647748",
     "status": "completed"
    },
    "tags": []
   },
   "outputs": [],
   "source": [
    "pipeline = Pipeline(stages=stages)"
   ]
  },
  {
   "cell_type": "code",
   "execution_count": 15,
   "id": "ca369057",
   "metadata": {
    "execution": {
     "iopub.execute_input": "2023-07-18T14:52:09.722093Z",
     "iopub.status.busy": "2023-07-18T14:52:09.721420Z",
     "iopub.status.idle": "2023-07-18T14:52:16.063960Z",
     "shell.execute_reply": "2023-07-18T14:52:16.062755Z"
    },
    "papermill": {
     "duration": 6.368273,
     "end_time": "2023-07-18T14:52:16.067370",
     "exception": false,
     "start_time": "2023-07-18T14:52:09.699097",
     "status": "completed"
    },
    "tags": []
   },
   "outputs": [],
   "source": [
    "df = pipeline.fit(df).transform(df)"
   ]
  },
  {
   "cell_type": "code",
   "execution_count": 16,
   "id": "0227908b",
   "metadata": {
    "execution": {
     "iopub.execute_input": "2023-07-18T14:52:16.130007Z",
     "iopub.status.busy": "2023-07-18T14:52:16.129543Z",
     "iopub.status.idle": "2023-07-18T14:52:21.712584Z",
     "shell.execute_reply": "2023-07-18T14:52:21.711335Z"
    },
    "papermill": {
     "duration": 5.618184,
     "end_time": "2023-07-18T14:52:21.715143",
     "exception": false,
     "start_time": "2023-07-18T14:52:16.096959",
     "status": "completed"
    },
    "tags": []
   },
   "outputs": [
    {
     "name": "stderr",
     "output_type": "stream",
     "text": [
      "23/07/18 14:52:16 WARN package: Truncated the string representation of a plan since it was too large. This behavior can be adjusted by setting 'spark.sql.debug.maxToStringFields'.\n",
      "                                                                                \r"
     ]
    },
    {
     "data": {
      "text/html": [
       "<div>\n",
       "<style scoped>\n",
       "    .dataframe tbody tr th:only-of-type {\n",
       "        vertical-align: middle;\n",
       "    }\n",
       "\n",
       "    .dataframe tbody tr th {\n",
       "        vertical-align: top;\n",
       "    }\n",
       "\n",
       "    .dataframe thead th {\n",
       "        text-align: right;\n",
       "    }\n",
       "</style>\n",
       "<table border=\"1\" class=\"dataframe\">\n",
       "  <thead>\n",
       "    <tr style=\"text-align: right;\">\n",
       "      <th></th>\n",
       "      <th>label</th>\n",
       "      <th>features</th>\n",
       "      <th>age</th>\n",
       "      <th>fnlwgt</th>\n",
       "      <th>education_num</th>\n",
       "      <th>capital_gain</th>\n",
       "      <th>capital_loss</th>\n",
       "      <th>hours_per_week</th>\n",
       "      <th>workclass</th>\n",
       "      <th>education</th>\n",
       "      <th>marital_status</th>\n",
       "      <th>occupation</th>\n",
       "      <th>relationship</th>\n",
       "      <th>race</th>\n",
       "      <th>sex</th>\n",
       "      <th>native_country</th>\n",
       "    </tr>\n",
       "  </thead>\n",
       "  <tbody>\n",
       "    <tr>\n",
       "      <th>0</th>\n",
       "      <td>0.0</td>\n",
       "      <td>(0.0, 0.0, 0.0, 1.0, 0.0, 0.0, 0.0, 0.0, 1.0, ...</td>\n",
       "      <td>90</td>\n",
       "      <td>77053</td>\n",
       "      <td>9</td>\n",
       "      <td>0</td>\n",
       "      <td>4356</td>\n",
       "      <td>40</td>\n",
       "      <td>?</td>\n",
       "      <td>HS-grad</td>\n",
       "      <td>Widowed</td>\n",
       "      <td>?</td>\n",
       "      <td>Not-in-family</td>\n",
       "      <td>White</td>\n",
       "      <td>Female</td>\n",
       "      <td>United-States</td>\n",
       "    </tr>\n",
       "    <tr>\n",
       "      <th>1</th>\n",
       "      <td>0.0</td>\n",
       "      <td>(1.0, 0.0, 0.0, 0.0, 0.0, 0.0, 0.0, 0.0, 1.0, ...</td>\n",
       "      <td>82</td>\n",
       "      <td>132870</td>\n",
       "      <td>9</td>\n",
       "      <td>0</td>\n",
       "      <td>4356</td>\n",
       "      <td>18</td>\n",
       "      <td>Private</td>\n",
       "      <td>HS-grad</td>\n",
       "      <td>Widowed</td>\n",
       "      <td>Exec-managerial</td>\n",
       "      <td>Not-in-family</td>\n",
       "      <td>White</td>\n",
       "      <td>Female</td>\n",
       "      <td>United-States</td>\n",
       "    </tr>\n",
       "    <tr>\n",
       "      <th>2</th>\n",
       "      <td>0.0</td>\n",
       "      <td>(0.0, 0.0, 0.0, 1.0, 0.0, 0.0, 0.0, 0.0, 0.0, ...</td>\n",
       "      <td>66</td>\n",
       "      <td>186061</td>\n",
       "      <td>10</td>\n",
       "      <td>0</td>\n",
       "      <td>4356</td>\n",
       "      <td>40</td>\n",
       "      <td>?</td>\n",
       "      <td>Some-college</td>\n",
       "      <td>Widowed</td>\n",
       "      <td>?</td>\n",
       "      <td>Unmarried</td>\n",
       "      <td>Black</td>\n",
       "      <td>Female</td>\n",
       "      <td>United-States</td>\n",
       "    </tr>\n",
       "    <tr>\n",
       "      <th>3</th>\n",
       "      <td>0.0</td>\n",
       "      <td>(1.0, 0.0, 0.0, 0.0, 0.0, 0.0, 0.0, 0.0, 0.0, ...</td>\n",
       "      <td>54</td>\n",
       "      <td>140359</td>\n",
       "      <td>4</td>\n",
       "      <td>0</td>\n",
       "      <td>3900</td>\n",
       "      <td>40</td>\n",
       "      <td>Private</td>\n",
       "      <td>7th-8th</td>\n",
       "      <td>Divorced</td>\n",
       "      <td>Machine-op-inspct</td>\n",
       "      <td>Unmarried</td>\n",
       "      <td>White</td>\n",
       "      <td>Female</td>\n",
       "      <td>United-States</td>\n",
       "    </tr>\n",
       "    <tr>\n",
       "      <th>4</th>\n",
       "      <td>0.0</td>\n",
       "      <td>(1.0, 0.0, 0.0, 0.0, 0.0, 0.0, 0.0, 0.0, 0.0, ...</td>\n",
       "      <td>41</td>\n",
       "      <td>264663</td>\n",
       "      <td>10</td>\n",
       "      <td>0</td>\n",
       "      <td>3900</td>\n",
       "      <td>40</td>\n",
       "      <td>Private</td>\n",
       "      <td>Some-college</td>\n",
       "      <td>Separated</td>\n",
       "      <td>Prof-specialty</td>\n",
       "      <td>Own-child</td>\n",
       "      <td>White</td>\n",
       "      <td>Female</td>\n",
       "      <td>United-States</td>\n",
       "    </tr>\n",
       "    <tr>\n",
       "      <th>5</th>\n",
       "      <td>0.0</td>\n",
       "      <td>(1.0, 0.0, 0.0, 0.0, 0.0, 0.0, 0.0, 0.0, 1.0, ...</td>\n",
       "      <td>34</td>\n",
       "      <td>216864</td>\n",
       "      <td>9</td>\n",
       "      <td>0</td>\n",
       "      <td>3770</td>\n",
       "      <td>45</td>\n",
       "      <td>Private</td>\n",
       "      <td>HS-grad</td>\n",
       "      <td>Divorced</td>\n",
       "      <td>Other-service</td>\n",
       "      <td>Unmarried</td>\n",
       "      <td>White</td>\n",
       "      <td>Female</td>\n",
       "      <td>United-States</td>\n",
       "    </tr>\n",
       "    <tr>\n",
       "      <th>6</th>\n",
       "      <td>0.0</td>\n",
       "      <td>(1.0, 0.0, 0.0, 0.0, 0.0, 0.0, 0.0, 0.0, 0.0, ...</td>\n",
       "      <td>38</td>\n",
       "      <td>150601</td>\n",
       "      <td>6</td>\n",
       "      <td>0</td>\n",
       "      <td>3770</td>\n",
       "      <td>40</td>\n",
       "      <td>Private</td>\n",
       "      <td>10th</td>\n",
       "      <td>Separated</td>\n",
       "      <td>Adm-clerical</td>\n",
       "      <td>Unmarried</td>\n",
       "      <td>White</td>\n",
       "      <td>Male</td>\n",
       "      <td>United-States</td>\n",
       "    </tr>\n",
       "    <tr>\n",
       "      <th>7</th>\n",
       "      <td>1.0</td>\n",
       "      <td>(0.0, 0.0, 0.0, 0.0, 1.0, 0.0, 0.0, 0.0, 0.0, ...</td>\n",
       "      <td>74</td>\n",
       "      <td>88638</td>\n",
       "      <td>16</td>\n",
       "      <td>0</td>\n",
       "      <td>3683</td>\n",
       "      <td>20</td>\n",
       "      <td>State-gov</td>\n",
       "      <td>Doctorate</td>\n",
       "      <td>Never-married</td>\n",
       "      <td>Prof-specialty</td>\n",
       "      <td>Other-relative</td>\n",
       "      <td>White</td>\n",
       "      <td>Female</td>\n",
       "      <td>United-States</td>\n",
       "    </tr>\n",
       "    <tr>\n",
       "      <th>8</th>\n",
       "      <td>0.0</td>\n",
       "      <td>(0.0, 0.0, 0.0, 0.0, 0.0, 0.0, 1.0, 0.0, 1.0, ...</td>\n",
       "      <td>68</td>\n",
       "      <td>422013</td>\n",
       "      <td>9</td>\n",
       "      <td>0</td>\n",
       "      <td>3683</td>\n",
       "      <td>40</td>\n",
       "      <td>Federal-gov</td>\n",
       "      <td>HS-grad</td>\n",
       "      <td>Divorced</td>\n",
       "      <td>Prof-specialty</td>\n",
       "      <td>Not-in-family</td>\n",
       "      <td>White</td>\n",
       "      <td>Female</td>\n",
       "      <td>United-States</td>\n",
       "    </tr>\n",
       "    <tr>\n",
       "      <th>9</th>\n",
       "      <td>1.0</td>\n",
       "      <td>(1.0, 0.0, 0.0, 0.0, 0.0, 0.0, 0.0, 0.0, 0.0, ...</td>\n",
       "      <td>41</td>\n",
       "      <td>70037</td>\n",
       "      <td>10</td>\n",
       "      <td>0</td>\n",
       "      <td>3004</td>\n",
       "      <td>60</td>\n",
       "      <td>Private</td>\n",
       "      <td>Some-college</td>\n",
       "      <td>Never-married</td>\n",
       "      <td>Craft-repair</td>\n",
       "      <td>Unmarried</td>\n",
       "      <td>White</td>\n",
       "      <td>Male</td>\n",
       "      <td>?</td>\n",
       "    </tr>\n",
       "  </tbody>\n",
       "</table>\n",
       "</div>"
      ],
      "text/plain": [
       "   label                                           features  age  fnlwgt  \\\n",
       "0    0.0  (0.0, 0.0, 0.0, 1.0, 0.0, 0.0, 0.0, 0.0, 1.0, ...   90   77053   \n",
       "1    0.0  (1.0, 0.0, 0.0, 0.0, 0.0, 0.0, 0.0, 0.0, 1.0, ...   82  132870   \n",
       "2    0.0  (0.0, 0.0, 0.0, 1.0, 0.0, 0.0, 0.0, 0.0, 0.0, ...   66  186061   \n",
       "3    0.0  (1.0, 0.0, 0.0, 0.0, 0.0, 0.0, 0.0, 0.0, 0.0, ...   54  140359   \n",
       "4    0.0  (1.0, 0.0, 0.0, 0.0, 0.0, 0.0, 0.0, 0.0, 0.0, ...   41  264663   \n",
       "5    0.0  (1.0, 0.0, 0.0, 0.0, 0.0, 0.0, 0.0, 0.0, 1.0, ...   34  216864   \n",
       "6    0.0  (1.0, 0.0, 0.0, 0.0, 0.0, 0.0, 0.0, 0.0, 0.0, ...   38  150601   \n",
       "7    1.0  (0.0, 0.0, 0.0, 0.0, 1.0, 0.0, 0.0, 0.0, 0.0, ...   74   88638   \n",
       "8    0.0  (0.0, 0.0, 0.0, 0.0, 0.0, 0.0, 1.0, 0.0, 1.0, ...   68  422013   \n",
       "9    1.0  (1.0, 0.0, 0.0, 0.0, 0.0, 0.0, 0.0, 0.0, 0.0, ...   41   70037   \n",
       "\n",
       "   education_num  capital_gain  capital_loss  hours_per_week    workclass  \\\n",
       "0              9             0          4356              40            ?   \n",
       "1              9             0          4356              18      Private   \n",
       "2             10             0          4356              40            ?   \n",
       "3              4             0          3900              40      Private   \n",
       "4             10             0          3900              40      Private   \n",
       "5              9             0          3770              45      Private   \n",
       "6              6             0          3770              40      Private   \n",
       "7             16             0          3683              20    State-gov   \n",
       "8              9             0          3683              40  Federal-gov   \n",
       "9             10             0          3004              60      Private   \n",
       "\n",
       "      education marital_status         occupation    relationship   race  \\\n",
       "0       HS-grad        Widowed                  ?   Not-in-family  White   \n",
       "1       HS-grad        Widowed    Exec-managerial   Not-in-family  White   \n",
       "2  Some-college        Widowed                  ?       Unmarried  Black   \n",
       "3       7th-8th       Divorced  Machine-op-inspct       Unmarried  White   \n",
       "4  Some-college      Separated     Prof-specialty       Own-child  White   \n",
       "5       HS-grad       Divorced      Other-service       Unmarried  White   \n",
       "6          10th      Separated       Adm-clerical       Unmarried  White   \n",
       "7     Doctorate  Never-married     Prof-specialty  Other-relative  White   \n",
       "8       HS-grad       Divorced     Prof-specialty   Not-in-family  White   \n",
       "9  Some-college  Never-married       Craft-repair       Unmarried  White   \n",
       "\n",
       "      sex native_country  \n",
       "0  Female  United-States  \n",
       "1  Female  United-States  \n",
       "2  Female  United-States  \n",
       "3  Female  United-States  \n",
       "4  Female  United-States  \n",
       "5  Female  United-States  \n",
       "6    Male  United-States  \n",
       "7  Female  United-States  \n",
       "8  Female  United-States  \n",
       "9    Male              ?  "
      ]
     },
     "execution_count": 16,
     "metadata": {},
     "output_type": "execute_result"
    }
   ],
   "source": [
    "selectedcols = [\"label\", \"features\"] + all_cols\n",
    "df = df.select(selectedcols)\n",
    "df.toPandas().head(10)"
   ]
  },
  {
   "cell_type": "code",
   "execution_count": 17,
   "id": "65b92fa6",
   "metadata": {
    "execution": {
     "iopub.execute_input": "2023-07-18T14:52:21.760208Z",
     "iopub.status.busy": "2023-07-18T14:52:21.759789Z",
     "iopub.status.idle": "2023-07-18T14:52:25.553191Z",
     "shell.execute_reply": "2023-07-18T14:52:25.551564Z"
    },
    "papermill": {
     "duration": 3.819993,
     "end_time": "2023-07-18T14:52:25.556999",
     "exception": false,
     "start_time": "2023-07-18T14:52:21.737006",
     "status": "completed"
    },
    "tags": []
   },
   "outputs": [
    {
     "name": "stderr",
     "output_type": "stream",
     "text": [
      "                                                                                \r"
     ]
    },
    {
     "name": "stdout",
     "output_type": "stream",
     "text": [
      "22832\n"
     ]
    },
    {
     "name": "stderr",
     "output_type": "stream",
     "text": [
      "[Stage 76:>                                                         (0 + 1) / 1]\r"
     ]
    },
    {
     "name": "stdout",
     "output_type": "stream",
     "text": [
      "9729\n"
     ]
    },
    {
     "name": "stderr",
     "output_type": "stream",
     "text": [
      "                                                                                \r"
     ]
    }
   ],
   "source": [
    "(train, test) = df.randomSplit([0.7, 0.3], seed=100)\n",
    "print(train.count())\n",
    "print(test.count())"
   ]
  },
  {
   "cell_type": "code",
   "execution_count": 18,
   "id": "f388522b",
   "metadata": {
    "execution": {
     "iopub.execute_input": "2023-07-18T14:52:25.625145Z",
     "iopub.status.busy": "2023-07-18T14:52:25.624329Z",
     "iopub.status.idle": "2023-07-18T14:53:26.066132Z",
     "shell.execute_reply": "2023-07-18T14:53:26.065169Z"
    },
    "papermill": {
     "duration": 60.478538,
     "end_time": "2023-07-18T14:53:26.069019",
     "exception": false,
     "start_time": "2023-07-18T14:52:25.590481",
     "status": "completed"
    },
    "tags": []
   },
   "outputs": [
    {
     "name": "stderr",
     "output_type": "stream",
     "text": [
      "23/07/18 14:52:30 WARN InstanceBuilder: Failed to load implementation from:dev.ludovic.netlib.blas.JNIBLAS\n",
      "23/07/18 14:53:12 WARN DAGScheduler: Broadcasting large task binary with size 1014.1 KiB\n",
      "23/07/18 14:53:12 WARN DAGScheduler: Broadcasting large task binary with size 1013.9 KiB\n",
      "23/07/18 14:53:12 WARN DAGScheduler: Broadcasting large task binary with size 1014.4 KiB\n",
      "23/07/18 14:53:12 WARN DAGScheduler: Broadcasting large task binary with size 1015.0 KiB\n",
      "23/07/18 14:53:12 WARN DAGScheduler: Broadcasting large task binary with size 1016.1 KiB\n",
      "23/07/18 14:53:12 WARN DAGScheduler: Broadcasting large task binary with size 1017.8 KiB\n",
      "23/07/18 14:53:13 WARN DAGScheduler: Broadcasting large task binary with size 1021.1 KiB\n",
      "23/07/18 14:53:13 WARN DAGScheduler: Broadcasting large task binary with size 1027.5 KiB\n",
      "23/07/18 14:53:13 WARN DAGScheduler: Broadcasting large task binary with size 1039.0 KiB\n",
      "23/07/18 14:53:13 WARN DAGScheduler: Broadcasting large task binary with size 1057.3 KiB\n",
      "23/07/18 14:53:13 WARN DAGScheduler: Broadcasting large task binary with size 1088.4 KiB\n",
      "23/07/18 14:53:14 WARN DAGScheduler: Broadcasting large task binary with size 1089.4 KiB\n",
      "23/07/18 14:53:14 WARN DAGScheduler: Broadcasting large task binary with size 1089.9 KiB\n",
      "23/07/18 14:53:14 WARN DAGScheduler: Broadcasting large task binary with size 1090.5 KiB\n",
      "23/07/18 14:53:14 WARN DAGScheduler: Broadcasting large task binary with size 1091.6 KiB\n",
      "23/07/18 14:53:14 WARN DAGScheduler: Broadcasting large task binary with size 1093.0 KiB\n",
      "23/07/18 14:53:14 WARN DAGScheduler: Broadcasting large task binary with size 1096.0 KiB\n",
      "23/07/18 14:53:14 WARN DAGScheduler: Broadcasting large task binary with size 1102.1 KiB\n",
      "23/07/18 14:53:15 WARN DAGScheduler: Broadcasting large task binary with size 1113.4 KiB\n",
      "23/07/18 14:53:15 WARN DAGScheduler: Broadcasting large task binary with size 1130.3 KiB\n",
      "23/07/18 14:53:15 WARN DAGScheduler: Broadcasting large task binary with size 1155.4 KiB\n",
      "23/07/18 14:53:15 WARN DAGScheduler: Broadcasting large task binary with size 1153.2 KiB\n",
      "23/07/18 14:53:15 WARN DAGScheduler: Broadcasting large task binary with size 1153.7 KiB\n",
      "23/07/18 14:53:16 WARN DAGScheduler: Broadcasting large task binary with size 1154.2 KiB\n",
      "23/07/18 14:53:16 WARN DAGScheduler: Broadcasting large task binary with size 1155.3 KiB\n",
      "23/07/18 14:53:16 WARN DAGScheduler: Broadcasting large task binary with size 1157.1 KiB\n",
      "23/07/18 14:53:16 WARN DAGScheduler: Broadcasting large task binary with size 1160.7 KiB\n",
      "23/07/18 14:53:16 WARN DAGScheduler: Broadcasting large task binary with size 1167.1 KiB\n",
      "23/07/18 14:53:16 WARN DAGScheduler: Broadcasting large task binary with size 1177.6 KiB\n",
      "23/07/18 14:53:16 WARN DAGScheduler: Broadcasting large task binary with size 1195.3 KiB\n",
      "23/07/18 14:53:17 WARN DAGScheduler: Broadcasting large task binary with size 1224.9 KiB\n",
      "23/07/18 14:53:17 WARN DAGScheduler: Broadcasting large task binary with size 1224.1 KiB\n",
      "23/07/18 14:53:17 WARN DAGScheduler: Broadcasting large task binary with size 1224.7 KiB\n",
      "23/07/18 14:53:17 WARN DAGScheduler: Broadcasting large task binary with size 1225.2 KiB\n",
      "23/07/18 14:53:17 WARN DAGScheduler: Broadcasting large task binary with size 1226.3 KiB\n",
      "23/07/18 14:53:17 WARN DAGScheduler: Broadcasting large task binary with size 1227.7 KiB\n",
      "23/07/18 14:53:18 WARN DAGScheduler: Broadcasting large task binary with size 1230.7 KiB\n",
      "23/07/18 14:53:18 WARN DAGScheduler: Broadcasting large task binary with size 1236.7 KiB\n",
      "23/07/18 14:53:18 WARN DAGScheduler: Broadcasting large task binary with size 1247.4 KiB\n",
      "23/07/18 14:53:18 WARN DAGScheduler: Broadcasting large task binary with size 1264.0 KiB\n",
      "23/07/18 14:53:18 WARN DAGScheduler: Broadcasting large task binary with size 1290.3 KiB\n",
      "23/07/18 14:53:19 WARN DAGScheduler: Broadcasting large task binary with size 1288.8 KiB\n",
      "23/07/18 14:53:19 WARN DAGScheduler: Broadcasting large task binary with size 1289.4 KiB\n",
      "23/07/18 14:53:19 WARN DAGScheduler: Broadcasting large task binary with size 1289.9 KiB\n",
      "23/07/18 14:53:19 WARN DAGScheduler: Broadcasting large task binary with size 1291.0 KiB\n",
      "23/07/18 14:53:19 WARN DAGScheduler: Broadcasting large task binary with size 1292.8 KiB\n",
      "23/07/18 14:53:19 WARN DAGScheduler: Broadcasting large task binary with size 1296.4 KiB\n",
      "23/07/18 14:53:19 WARN DAGScheduler: Broadcasting large task binary with size 1303.0 KiB\n",
      "23/07/18 14:53:20 WARN DAGScheduler: Broadcasting large task binary with size 1314.1 KiB\n",
      "23/07/18 14:53:20 WARN DAGScheduler: Broadcasting large task binary with size 1332.4 KiB\n",
      "23/07/18 14:53:20 WARN DAGScheduler: Broadcasting large task binary with size 1362.4 KiB\n",
      "23/07/18 14:53:20 WARN DAGScheduler: Broadcasting large task binary with size 1361.6 KiB\n",
      "23/07/18 14:53:21 WARN DAGScheduler: Broadcasting large task binary with size 1362.1 KiB\n",
      "23/07/18 14:53:21 WARN DAGScheduler: Broadcasting large task binary with size 1362.6 KiB\n",
      "23/07/18 14:53:21 WARN DAGScheduler: Broadcasting large task binary with size 1363.7 KiB\n",
      "23/07/18 14:53:21 WARN DAGScheduler: Broadcasting large task binary with size 1365.1 KiB\n",
      "23/07/18 14:53:21 WARN DAGScheduler: Broadcasting large task binary with size 1368.2 KiB\n",
      "23/07/18 14:53:21 WARN DAGScheduler: Broadcasting large task binary with size 1374.2 KiB\n",
      "23/07/18 14:53:21 WARN DAGScheduler: Broadcasting large task binary with size 1385.7 KiB\n",
      "23/07/18 14:53:22 WARN DAGScheduler: Broadcasting large task binary with size 1404.5 KiB\n",
      "23/07/18 14:53:22 WARN DAGScheduler: Broadcasting large task binary with size 1431.5 KiB\n",
      "23/07/18 14:53:22 WARN DAGScheduler: Broadcasting large task binary with size 1428.0 KiB\n",
      "23/07/18 14:53:22 WARN DAGScheduler: Broadcasting large task binary with size 1428.5 KiB\n",
      "23/07/18 14:53:22 WARN DAGScheduler: Broadcasting large task binary with size 1429.1 KiB\n",
      "23/07/18 14:53:23 WARN DAGScheduler: Broadcasting large task binary with size 1430.1 KiB\n",
      "23/07/18 14:53:23 WARN DAGScheduler: Broadcasting large task binary with size 1431.6 KiB\n",
      "23/07/18 14:53:23 WARN DAGScheduler: Broadcasting large task binary with size 1434.6 KiB\n",
      "23/07/18 14:53:23 WARN DAGScheduler: Broadcasting large task binary with size 1440.6 KiB\n",
      "23/07/18 14:53:23 WARN DAGScheduler: Broadcasting large task binary with size 1451.5 KiB\n",
      "23/07/18 14:53:23 WARN DAGScheduler: Broadcasting large task binary with size 1469.2 KiB\n",
      "23/07/18 14:53:24 WARN DAGScheduler: Broadcasting large task binary with size 1496.5 KiB\n",
      "23/07/18 14:53:24 WARN DAGScheduler: Broadcasting large task binary with size 1494.7 KiB\n",
      "23/07/18 14:53:24 WARN DAGScheduler: Broadcasting large task binary with size 1495.2 KiB\n",
      "23/07/18 14:53:24 WARN DAGScheduler: Broadcasting large task binary with size 1495.8 KiB\n",
      "23/07/18 14:53:24 WARN DAGScheduler: Broadcasting large task binary with size 1496.8 KiB\n",
      "23/07/18 14:53:24 WARN DAGScheduler: Broadcasting large task binary with size 1498.2 KiB\n",
      "23/07/18 14:53:25 WARN DAGScheduler: Broadcasting large task binary with size 1501.3 KiB\n",
      "23/07/18 14:53:25 WARN DAGScheduler: Broadcasting large task binary with size 1507.2 KiB\n",
      "23/07/18 14:53:25 WARN DAGScheduler: Broadcasting large task binary with size 1518.5 KiB\n",
      "23/07/18 14:53:25 WARN DAGScheduler: Broadcasting large task binary with size 1537.7 KiB\n",
      "23/07/18 14:53:25 WARN DAGScheduler: Broadcasting large task binary with size 1565.9 KiB\n"
     ]
    }
   ],
   "source": [
    "from pyspark.ml.classification import (LogisticRegression, DecisionTreeClassifier,RandomForestClassifier, NaiveBayes, GBTClassifier)\n",
    "\n",
    "#Logistic regression model\n",
    "logr = LogisticRegression(\n",
    "    maxIter = 10,\n",
    "    regParam = 0.05,\n",
    "    labelCol=\"label\",\n",
    "    featuresCol=\"features\"\n",
    ")\n",
    "\n",
    "#KNN\n",
    "# k_nn = KNNClassifer(\n",
    "#     numTrees = 10,\n",
    "#     labelCol = \"label\",\n",
    "#     featuresCol=\"features\"\n",
    "# )\n",
    "\n",
    " #decision tree model\n",
    "d_tree = DecisionTreeClassifier(\n",
    "    maxDepth = 10,\n",
    "    labelCol = \"label\",\n",
    "    featuresCol=\"features\"\n",
    ")\n",
    "#NaiveBayes\n",
    "n_bayes = NaiveBayes(\n",
    "#     maxDepth = 10,\n",
    "    labelCol = \"label\",\n",
    "    featuresCol=\"features\"\n",
    ")\n",
    "\n",
    "g_bt = GBTClassifier(\n",
    "    maxDepth = 10,\n",
    "    labelCol = \"label\",\n",
    "    featuresCol=\"features\"\n",
    ")\n",
    "\n",
    "# random forest model\n",
    "r_forest = RandomForestClassifier(\n",
    "    numTrees = 10,\n",
    "    labelCol = \"label\",\n",
    "    featuresCol=\"features\"\n",
    ")\n",
    "\n",
    "\n",
    "# fit models\n",
    "lr_model = logr.fit(train)\n",
    "dt_model = d_tree.fit(train)\n",
    "rf_model = r_forest.fit(train)\n",
    "# knn_model = k_nn.fit(train)\n",
    "nb_model = n_bayes.fit(train)\n",
    "gbt_model = g_bt.fit(train)\n"
   ]
  },
  {
   "cell_type": "code",
   "execution_count": 19,
   "id": "682202ce",
   "metadata": {
    "execution": {
     "iopub.execute_input": "2023-07-18T14:53:26.127876Z",
     "iopub.status.busy": "2023-07-18T14:53:26.127140Z",
     "iopub.status.idle": "2023-07-18T14:53:34.319212Z",
     "shell.execute_reply": "2023-07-18T14:53:34.318234Z"
    },
    "papermill": {
     "duration": 8.224956,
     "end_time": "2023-07-18T14:53:34.322333",
     "exception": false,
     "start_time": "2023-07-18T14:53:26.097377",
     "status": "completed"
    },
    "tags": []
   },
   "outputs": [
    {
     "name": "stderr",
     "output_type": "stream",
     "text": [
      "23/07/18 14:53:33 WARN DAGScheduler: Broadcasting large task binary with size 1546.7 KiB\n",
      "                                                                                \r"
     ]
    },
    {
     "data": {
      "text/plain": [
       "{'Logistic regression': 0.8943934992297966,\n",
       " 'Decision tree': 0.8016051475917901,\n",
       " 'Random forest': 0.8748910737321414,\n",
       " 'NaiveBayes': 0.36452231538246793,\n",
       " 'GradientBoostTrees': 0.9020230476840314}"
      ]
     },
     "execution_count": 19,
     "metadata": {},
     "output_type": "execute_result"
    }
   ],
   "source": [
    "from pyspark.ml.evaluation import BinaryClassificationEvaluator\n",
    "# model evaluator\n",
    "def testModel(model, df):\n",
    "    pred = model.transform(df)\n",
    "    evaluator = BinaryClassificationEvaluator(labelCol=\"label\")\n",
    "    return evaluator.evaluate(pred)\n",
    "\n",
    "# accuracy output\n",
    "models = {\n",
    "    \"Logistic regression\": lr_model,\n",
    "    \"Decision tree\": dt_model,\n",
    "    \"Random forest\": rf_model,\n",
    "    \"NaiveBayes\": nb_model,\n",
    "    \"GradientBoostTrees\":gbt_model\n",
    "}\n",
    "\n",
    "# model performance comparisson\n",
    "{model_name: testModel(model, test) for model_name,model in models.items()}"
   ]
  },
  {
   "cell_type": "code",
   "execution_count": 20,
   "id": "e03355cc",
   "metadata": {
    "execution": {
     "iopub.execute_input": "2023-07-18T14:53:34.383331Z",
     "iopub.status.busy": "2023-07-18T14:53:34.382927Z",
     "iopub.status.idle": "2023-07-18T14:53:34.519256Z",
     "shell.execute_reply": "2023-07-18T14:53:34.518089Z"
    },
    "papermill": {
     "duration": 0.170678,
     "end_time": "2023-07-18T14:53:34.522828",
     "exception": false,
     "start_time": "2023-07-18T14:53:34.352150",
     "status": "completed"
    },
    "tags": []
   },
   "outputs": [
    {
     "name": "stdout",
     "output_type": "stream",
     "text": [
      "root\n",
      " |-- label: double (nullable = false)\n",
      " |-- features: vector (nullable = true)\n",
      " |-- age: integer (nullable = true)\n",
      " |-- fnlwgt: integer (nullable = true)\n",
      " |-- education_num: integer (nullable = true)\n",
      " |-- capital_gain: integer (nullable = true)\n",
      " |-- capital_loss: integer (nullable = true)\n",
      " |-- hours_per_week: integer (nullable = true)\n",
      " |-- workclass: string (nullable = true)\n",
      " |-- education: string (nullable = true)\n",
      " |-- marital_status: string (nullable = true)\n",
      " |-- occupation: string (nullable = true)\n",
      " |-- relationship: string (nullable = true)\n",
      " |-- race: string (nullable = true)\n",
      " |-- sex: string (nullable = true)\n",
      " |-- native_country: string (nullable = true)\n",
      " |-- rawPrediction: vector (nullable = true)\n",
      " |-- probability: vector (nullable = true)\n",
      " |-- prediction: double (nullable = false)\n",
      "\n"
     ]
    }
   ],
   "source": [
    "predictions = lr_model.transform(test)\n",
    "predictions.printSchema()"
   ]
  },
  {
   "cell_type": "code",
   "execution_count": 21,
   "id": "9e9628da",
   "metadata": {
    "execution": {
     "iopub.execute_input": "2023-07-18T14:53:34.589373Z",
     "iopub.status.busy": "2023-07-18T14:53:34.588968Z",
     "iopub.status.idle": "2023-07-18T14:53:36.240274Z",
     "shell.execute_reply": "2023-07-18T14:53:36.239180Z"
    },
    "papermill": {
     "duration": 1.686563,
     "end_time": "2023-07-18T14:53:36.243295",
     "exception": false,
     "start_time": "2023-07-18T14:53:34.556732",
     "status": "completed"
    },
    "tags": []
   },
   "outputs": [
    {
     "name": "stderr",
     "output_type": "stream",
     "text": [
      "[Stage 582:>                                                        (0 + 1) / 1]\r"
     ]
    },
    {
     "name": "stdout",
     "output_type": "stream",
     "text": [
      "+-----+--------------------+----------+---+--------------+------+--------------+\n",
      "|label|         probability|prediction|age|    occupation|   sex|hours_per_week|\n",
      "+-----+--------------------+----------+---+--------------+------+--------------+\n",
      "|  0.0|[0.29587245995467...|       1.0| 36|Prof-specialty|  Male|            60|\n",
      "|  0.0|[0.66874817876628...|       0.0| 32|Prof-specialty|  Male|            40|\n",
      "|  0.0|[0.56812374211772...|       0.0| 33|Prof-specialty|  Male|            60|\n",
      "|  0.0|[0.64949942482009...|       0.0| 39|Prof-specialty|  Male|            40|\n",
      "|  0.0|[0.61863901973377...|       0.0| 39|Prof-specialty|  Male|            45|\n",
      "|  0.0|[0.60635940124204...|       0.0| 50|Prof-specialty|  Male|            40|\n",
      "|  0.0|[0.60157267853152...|       0.0| 51|Prof-specialty|  Male|            40|\n",
      "|  0.0|[0.60306827555701...|       0.0| 60|Prof-specialty|  Male|            30|\n",
      "|  0.0|[0.70128008415338...|       0.0| 34|Prof-specialty|  Male|            40|\n",
      "|  0.0|[0.92967610098900...|       0.0| 20|Prof-specialty|Female|            36|\n",
      "|  0.0|[0.58533865717760...|       0.0| 35|Prof-specialty|Female|            35|\n",
      "|  0.0|[0.57655629847061...|       0.0| 42|Prof-specialty|Female|            40|\n",
      "|  0.0|[0.60388921314968...|       0.0| 43|Prof-specialty|Female|            35|\n",
      "|  0.0|[0.69860841153689...|       0.0| 48|Prof-specialty|Female|             8|\n",
      "|  0.0|[0.65354575250929...|       0.0| 50|Prof-specialty|Female|            16|\n",
      "+-----+--------------------+----------+---+--------------+------+--------------+\n",
      "only showing top 15 rows\n",
      "\n"
     ]
    },
    {
     "name": "stderr",
     "output_type": "stream",
     "text": [
      "                                                                                \r"
     ]
    }
   ],
   "source": [
    "inspect_cols = [\"label\", \"probability\", \"prediction\", \"age\", \"occupation\", \"sex\", \"hours_per_week\"]\n",
    "predictions.select(inspect_cols).show(15)"
   ]
  },
  {
   "cell_type": "code",
   "execution_count": null,
   "id": "b75589eb",
   "metadata": {
    "papermill": {
     "duration": 0.029887,
     "end_time": "2023-07-18T14:53:36.303117",
     "exception": false,
     "start_time": "2023-07-18T14:53:36.273230",
     "status": "completed"
    },
    "tags": []
   },
   "outputs": [],
   "source": []
  }
 ],
 "metadata": {
  "kernelspec": {
   "display_name": "Python 3",
   "language": "python",
   "name": "python3"
  },
  "language_info": {
   "codemirror_mode": {
    "name": "ipython",
    "version": 3
   },
   "file_extension": ".py",
   "mimetype": "text/x-python",
   "name": "python",
   "nbconvert_exporter": "python",
   "pygments_lexer": "ipython3",
   "version": "3.10.10"
  },
  "papermill": {
   "default_parameters": {},
   "duration": 183.546166,
   "end_time": "2023-07-18T14:53:38.953932",
   "environment_variables": {},
   "exception": null,
   "input_path": "__notebook__.ipynb",
   "output_path": "__notebook__.ipynb",
   "parameters": {},
   "start_time": "2023-07-18T14:50:35.407766",
   "version": "2.4.0"
  }
 },
 "nbformat": 4,
 "nbformat_minor": 5
}
